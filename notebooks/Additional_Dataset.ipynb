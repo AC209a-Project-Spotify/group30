{
 "cells": [
  {
   "cell_type": "markdown",
   "metadata": {},
   "source": [
    "# Additional Dataset"
   ]
  },
  {
   "cell_type": "markdown",
   "metadata": {},
   "source": [
    "We combined an [additional dataset](https://www.kaggle.com/edumucelli/spotifys-worldwide-daily-song-ranking) of the 200 daily most streamed Spotify songs to our **tracks** database. Now each track has an additional field of **`score`**: Each time the track made the 200 most streamed list worldwide, its score is **increased by (201 - ranked position)**. The tracks in this additional dataset are matched with our scraped tracks by the trackIDs. Accordingly, each playlist now has an additional field of **`tracks_score`** to be the sum of all its tracks' `score` (0 if none of its tracks made to the 200 most streamed list ever).\n",
    "\n",
    "In this notebook, we first created a **track-score dictionary {key = trackID, value = score}**, updated this dictionary with our all tracks json database, and update all playlists to have a new field of `tracks_score`. The dataframe of processed playlists with `tracks_score` is saved to a local csv file `playlists_extra.csv`. \n",
    "\n",
    "We then fit the same set of regression models on 2 sets of features to predict the number of followers (log-scale) of each playlist. (The following process is almost the same as in Regression Models, except that we use the playlists with additional `tracks_score`.)\n",
    "\n",
    "- Feature set 1: **main predictors only**\n",
    "- Feature set 2: **main predictors and interaction terms of (genre X numerical_audio_feature_avg)**\n",
    "\n",
    "For each set of features, do the following 2 steps:\n",
    "- Use main predictors only and fit **single** regression models:\n",
    "    - Linear Regression\n",
    "    - (Perform PCA on the main predictors and interaction terms set of features)\n",
    "    - RidgeCV\n",
    "    - LassoCV\n",
    "    - Random Forest Regressor\n",
    "    - Adaboost Regressor\n",
    "\n",
    "- **Stack** all fitted models on the training set together to fit a\n",
    "    - **Meta regressor 1: Weighted Average ** \n",
    "        - Gather the predicted values of all the fitted single models on the validation set\n",
    "        - Average each single model's predicted value weighted by its accuracy on the same validation set\n",
    "    \n",
    "    - **Meta regressor 2: Meta Linear Regressor ** \n",
    "        - Gather the predicted values of all the fitted single models on the validation set\n",
    "        - Fit a linear regression model on these single models' predicted values\n",
    "\n",
    "As shown in the **summary** part at the end of this notebook, the addtional dataset **improved** test $R^2$ scores of the **Linear Regression model, RidgeCV, LassoCV** on both sets of features. 5-fold cross-validation of **PCA** on main predictors and the interaction terms selected out one more component (189) than before (188). This suggests the additional dataset did provide some useful information for better prediction of num_followers.\n",
    "\n",
    "However, test $R^2$ scores of the ensemble regressors (random forest and adaboost; and stacking meta models as a result) do not improve. This may be because the ensemble models' training process include random predictors selection and boostrapping, which already gained enough useful information without the additional dataset. Adding more predictors unnecessarily increased these models' complexity."
   ]
  },
  {
   "cell_type": "code",
   "execution_count": 1,
   "metadata": {
    "collapsed": true,
    "hide": true
   },
   "outputs": [],
   "source": [
    "# import libraries\n",
    "import json\n",
    "import numpy as np\n",
    "import pandas as pd\n",
    "import seaborn as sns\n",
    "import matplotlib.pyplot as plt\n",
    "import matplotlib\n",
    "from IPython.display import Image\n",
    "from IPython.display import display\n",
    "from sklearn.model_selection import train_test_split\n",
    "from sklearn.decomposition import PCA\n",
    "from sklearn.linear_model import LinearRegression\n",
    "from sklearn.linear_model import RidgeCV\n",
    "from sklearn.linear_model import LassoCV\n",
    "from sklearn.preprocessing import PolynomialFeatures\n",
    "from sklearn.ensemble import RandomForestRegressor\n",
    "from sklearn.ensemble import AdaBoostRegressor\n",
    "from sklearn.tree import DecisionTreeRegressor\n",
    "from sklearn.metrics import r2_score\n",
    "from sklearn.model_selection import cross_val_score\n",
    "from sklearn.model_selection import KFold\n",
    "from sklearn.externals import joblib\n",
    "from itertools import product\n",
    "from collections import OrderedDict\n",
    "from copy import deepcopy\n",
    "import collections\n",
    "import warnings\n",
    "warnings.filterwarnings(\"ignore\")\n",
    "%matplotlib inline"
   ]
  },
  {
   "cell_type": "code",
   "execution_count": 2,
   "metadata": {
    "collapsed": true
   },
   "outputs": [],
   "source": [
    "# Save scraped data to json file\n",
    "def dump_data(data_to_json, file):\n",
    "    # example: file = '../data/playlists_5088.json'\n",
    "    with open(file,'w') as fd:\n",
    "        json.dump(data_to_json, fd)\n",
    "\n",
    "# Load json file\n",
    "def load_data(file):\n",
    "    with open(file, 'r') as fd:\n",
    "        data_from_json = json.load(fd)\n",
    "        return data_from_json"
   ]
  },
  {
   "cell_type": "code",
   "execution_count": 3,
   "metadata": {
    "collapsed": true
   },
   "outputs": [],
   "source": [
    " def extract_track_features(tracks_db, playlists):\n",
    "    \"\"\"\n",
    "    Function to get track features and return a playlist dictionary with track features\n",
    "    \"\"\"\n",
    "    processed_playlists = deepcopy(playlists)\n",
    "    \n",
    "    missing_counts = 0\n",
    "    # Loop over each playlist\n",
    "    for index, playlist in enumerate(processed_playlists):\n",
    "        # get the list of track ids for each playlist\n",
    "        track_ids = playlist['track_ids']\n",
    "        track_feature_keys = ['acousticness', 'album_id', 'album_name', 'album_popularity','artists_genres', \n",
    "                              'artists_ids', 'artists_names', 'artists_num_followers', 'artists_popularities',\n",
    "                              'avg_artist_num_followers', 'avg_artist_popularity', 'danceability', 'duration_ms',\n",
    "                              'energy', 'explicit', 'instrumentalness', 'isrc', 'key', 'liveness', \n",
    "                              'loudness', 'mode', 'mode_artist_genre', 'name', 'num_available_markets',\n",
    "                              'popularity', 'speechiness', 'std_artist_num_followers', 'std_artist_popularity',\n",
    "                              'tempo', 'time_signature', 'valence']\n",
    "        \n",
    "        # new entries of audio features for each playlist as a list to append each track's audio feature\n",
    "        for track_feature_key in track_feature_keys:\n",
    "            playlist['track_' + track_feature_key] = []\n",
    "        \n",
    "        # append each tracks' audio features into the entries of the playlist\n",
    "        for track_id in track_ids:\n",
    "            # check if the track_id is in the scrapped_tracks\n",
    "            if track_id in tracks_db.keys():\n",
    "                # append each track's audio feature into the playlist dictionary\n",
    "                for track_feature_key in track_feature_keys:\n",
    "                    if track_feature_key in tracks_db[track_id].keys():\n",
    "                        playlist['track_' + track_feature_key].append(tracks_db[track_id][track_feature_key])\n",
    "            else:\n",
    "                missing_counts += 1\n",
    "        processed_playlists[index] = playlist\n",
    "    print('tracks that are missing : {}'.format(missing_counts))\n",
    "    return processed_playlists\n",
    "\n",
    "\n",
    "def build_playlist_dataframe_extra(playlists_dictionary_list):\n",
    "    \"\"\"\n",
    "    Function to build playlist dataframe from playlists dictionary with track features \n",
    "    PLUS TRACKS_SCORE\n",
    "    \"\"\"\n",
    "    if playlists_dictionary_list[7914]['id'] == '4krpfadGaaW42C7cEm2O0A':\n",
    "        del playlists_dictionary_list[7914]\n",
    "        \n",
    "    # features to take the avg and std\n",
    "    features_avg = ['track_acousticness', 'track_avg_artist_num_followers', 'track_album_popularity',\n",
    "                    'track_avg_artist_popularity', 'track_danceability', 'track_duration_ms', \n",
    "                    'track_energy', 'track_explicit', 'track_instrumentalness','track_liveness', \n",
    "                    'track_loudness', 'track_mode', 'track_num_available_markets',\n",
    "                    'track_std_artist_num_followers', 'track_std_artist_popularity',\n",
    "                    'track_popularity', 'track_speechiness', 'track_tempo', 'track_valence'\n",
    "                   ]                \n",
    "                      \n",
    "    # features to take the mode, # of uniques\n",
    "    features_mode = ['track_artists_genres','track_key','track_time_signature']\n",
    "\n",
    "    # features as is\n",
    "    features = ['collaborative', 'num_followers', 'num_tracks', 'tracks_score']\n",
    "\n",
    "    processed_playlists = {}\n",
    "\n",
    "    for index, playlist in enumerate(playlists_dictionary_list):\n",
    "        playlist_info = {} \n",
    "    #     playlist_info['id'] = playlist['id']\n",
    "\n",
    "        for key in playlist.keys():\n",
    "            if key in features_avg: # take avg and std\n",
    "                playlist_info[key + '_avg'] = np.mean(playlist[key])\n",
    "                playlist_info[key + '_std'] = np.std(playlist[key])\n",
    "                if key in set(['track_popularity', 'track_album_popularity', 'track_avg_artist_popularity']):\n",
    "                    playlist_info[key + '_max'] = max(playlist[key])\n",
    "            elif key in features_mode: # take mode\n",
    "                if playlist[key]:\n",
    "                    if key == 'track_artists_genres':\n",
    "                        flatten = lambda l: [item for sublist in l for item in sublist]\n",
    "                        flattened_value = flatten(playlist[key])\n",
    "                        if flattened_value:\n",
    "                            counter = collections.Counter(flattened_value)\n",
    "                            playlist_info[key + '_mode'] = counter.most_common()[0][0]\n",
    "                            playlist_info[key + '_unique'] = len(set(flattened_value))\n",
    "                    else:\n",
    "                        counter = collections.Counter(playlist[key])\n",
    "                        playlist_info[key + '_mode'] = counter.most_common()[0][0]\n",
    "                        playlist_info[key + '_unique'] = len(set(playlist[key]))\n",
    "            elif key in features:\n",
    "                playlist_info[key] = playlist[key]\n",
    "\n",
    "        processed_playlists[index] = playlist_info\n",
    "    df = pd.DataFrame(processed_playlists).T\n",
    "    \n",
    "    # Drop all observations (playlists) with missingness\n",
    "    df_full = df.dropna(axis=0, how='any')\n",
    "    df_full.reset_index(inplace=True, drop=True)\n",
    "    \n",
    "    # Define our genre labels\n",
    "    predefined_genres =['pop rap', 'punk', 'korean pop', 'pop christmas', 'folk', 'indie pop', 'pop', \n",
    "                    'rock', 'rap' , 'house', 'indie', 'dance', 'edm', 'mellow', 'hip hop',  \n",
    "                    'alternative', 'jazz', 'r&b', 'soul', 'reggae', 'classical', 'funk', 'country',\n",
    "                    'metal', 'blues', 'elect']\n",
    "    # Create a new column genre_category\n",
    "    df_full['genre'] = None\n",
    "    \n",
    "    # Label genres\n",
    "    genres = df_full['track_artists_genres_mode']\n",
    "    for g in reversed(predefined_genres):\n",
    "        df_full['genre'][genres.str.contains(g)] = g\n",
    "\n",
    "    # Label all observations that did not match our predefined genres as 'other'  \n",
    "    df_full['genre'].fillna('other', inplace=True)\n",
    "    df_full.drop('track_artists_genres_mode', axis=1, inplace=True)\n",
    "    \n",
    "    return df_full\n",
    "\n",
    "\n",
    "def change_column_order(df, col_name, index): \n",
    "    \"\"\"\n",
    "    Function to change column order in a dataframe\n",
    "    \"\"\"\n",
    "    cols = df.columns.tolist() \n",
    "    cols.remove(col_name)\n",
    "    cols.insert(index, col_name)\n",
    "    return df[cols]\n"
   ]
  },
  {
   "cell_type": "markdown",
   "metadata": {},
   "source": [
    "## Extra Dataset Processing"
   ]
  },
  {
   "cell_type": "markdown",
   "metadata": {},
   "source": [
    "### Build `score` field for each track"
   ]
  },
  {
   "cell_type": "code",
   "execution_count": 4,
   "metadata": {
    "collapsed": true
   },
   "outputs": [],
   "source": [
    "extra_df = pd.read_csv('../../data/extra_data.csv')\n",
    "\n",
    "# Build the filed of Score\n",
    "extra_df['Track_ID'] = extra_df.URL.str[31:]\n",
    "extra_df['Score'] = 201 - extra_df['Position']\n",
    "\n",
    "selected_cols = ['Track_ID', 'Score', 'Streams']\n",
    "extra_df = extra_df[selected_cols]\n",
    "\n",
    "# Drop missing values\n",
    "extra_df.dropna(axis=0, how='any', inplace=True)\n",
    "print('Is there any missing values in the extra dataset: {}'.format(extra_df.isnull().values.any()))\n",
    "\n",
    "# Save extra_df to csv file\n",
    "extra_df_grouped.reset_index(inplace=False)\n",
    "extra_df_grouped.to_csv('../../data/extra_df.csv')"
   ]
  },
  {
   "cell_type": "code",
   "execution_count": 5,
   "metadata": {},
   "outputs": [
    {
     "data": {
      "text/html": [
       "<div>\n",
       "<style>\n",
       "    .dataframe thead tr:only-child th {\n",
       "        text-align: right;\n",
       "    }\n",
       "\n",
       "    .dataframe thead th {\n",
       "        text-align: left;\n",
       "    }\n",
       "\n",
       "    .dataframe tbody tr th {\n",
       "        vertical-align: top;\n",
       "    }\n",
       "</style>\n",
       "<table border=\"1\" class=\"dataframe\">\n",
       "  <thead>\n",
       "    <tr style=\"text-align: right;\">\n",
       "      <th></th>\n",
       "      <th>Track_ID</th>\n",
       "      <th>Score</th>\n",
       "      <th>Streams</th>\n",
       "    </tr>\n",
       "  </thead>\n",
       "  <tbody>\n",
       "    <tr>\n",
       "      <th>0</th>\n",
       "      <td>000xQL6tZNLJzIrtIgxqSl</td>\n",
       "      <td>388743</td>\n",
       "      <td>188175017</td>\n",
       "    </tr>\n",
       "    <tr>\n",
       "      <th>1</th>\n",
       "      <td>000xYdQfIZ4pDmBGzQalKU</td>\n",
       "      <td>11933</td>\n",
       "      <td>8432317</td>\n",
       "    </tr>\n",
       "    <tr>\n",
       "      <th>2</th>\n",
       "      <td>007d7JT41sSc1HqWTs4uw7</td>\n",
       "      <td>323</td>\n",
       "      <td>283424</td>\n",
       "    </tr>\n",
       "    <tr>\n",
       "      <th>3</th>\n",
       "      <td>009Zz28Vgvnc5FvMXs6dEm</td>\n",
       "      <td>642</td>\n",
       "      <td>4955</td>\n",
       "    </tr>\n",
       "    <tr>\n",
       "      <th>4</th>\n",
       "      <td>009j4tQyJC53rmgTuXil9E</td>\n",
       "      <td>26</td>\n",
       "      <td>5234</td>\n",
       "    </tr>\n",
       "  </tbody>\n",
       "</table>\n",
       "</div>"
      ],
      "text/plain": [
       "                 Track_ID   Score    Streams\n",
       "0  000xQL6tZNLJzIrtIgxqSl  388743  188175017\n",
       "1  000xYdQfIZ4pDmBGzQalKU   11933    8432317\n",
       "2  007d7JT41sSc1HqWTs4uw7     323     283424\n",
       "3  009Zz28Vgvnc5FvMXs6dEm     642       4955\n",
       "4  009j4tQyJC53rmgTuXil9E      26       5234"
      ]
     },
     "execution_count": 5,
     "metadata": {},
     "output_type": "execute_result"
    }
   ],
   "source": [
    "# Load the extra dataframe\n",
    "extra_df = pd.read_csv('../../data/extra_df.csv')\n",
    "extra_df.head()"
   ]
  },
  {
   "cell_type": "markdown",
   "metadata": {},
   "source": [
    "### Build  `tracks_score` field for each playlist"
   ]
  },
  {
   "cell_type": "code",
   "execution_count": 6,
   "metadata": {
    "collapsed": true
   },
   "outputs": [],
   "source": [
    "tracks_score_dict = dict(zip(list(extra_df['Track_ID']), list(extra_df['Score'])))\n",
    "\n",
    "# Load playlists\n",
    "playlists = load_data('../../data_archive/playlists_from_200_search_words.json')\n",
    "\n",
    "# Load tracks\n",
    "tracks_db = load_data('../../data_archive/tracks.json')\n",
    "\n",
    "# Add 'tracks_score' to each playlist dictionary\n",
    "for playlist in playlists:\n",
    "    tracks_score = 0\n",
    "    track_ids = playlist['track_ids']\n",
    "    for track_id in track_ids:\n",
    "        if track_id in tracks_score_dict:\n",
    "            tracks_score += tracks_score_dict[track_id]\n",
    "    playlist['tracks_score'] = tracks_score"
   ]
  },
  {
   "cell_type": "markdown",
   "metadata": {},
   "source": [
    "### Merge the playlist dataframe with the new `tracks_score` field"
   ]
  },
  {
   "cell_type": "code",
   "execution_count": 7,
   "metadata": {
    "collapsed": true
   },
   "outputs": [],
   "source": [
    "processed_playlists = extract_track_features(tracks_db, playlists)\n",
    "playlists_df_extra = build_playlist_dataframe_extra(processed_playlists)\n",
    "\n",
    "# Save the new dataframe of playlists\n",
    "playlists_df_extra.to_csv('../../data/playlists_extra.csv', index=False)\n",
    "\n",
    "# Load the new dataframe of playlists\n",
    "playlists_df_extra = pd.read_csv('../../data/playlists_extra.csv')"
   ]
  },
  {
   "cell_type": "markdown",
   "metadata": {},
   "source": [
    "## Regression models with main predictors only"
   ]
  },
  {
   "cell_type": "markdown",
   "metadata": {},
   "source": [
    "### Data Processing"
   ]
  },
  {
   "cell_type": "markdown",
   "metadata": {},
   "source": [
    "Take **log transform** of the skewed response variable:\n",
    "\n",
    "**`num_followers` -> `log_num_followers`**"
   ]
  },
  {
   "cell_type": "code",
   "execution_count": 8,
   "metadata": {
    "collapsed": true
   },
   "outputs": [],
   "source": [
    "# Log transformation\n",
    "playlists_df_extra['log_num_followers'] = np.log(list(playlists_df_extra['num_followers']+1))\n",
    "\n",
    "# Dropping the original num_followers, num_tracks\n",
    "playlists_df_extra.drop(['num_followers'], axis=1, inplace=True)"
   ]
  },
  {
   "cell_type": "markdown",
   "metadata": {},
   "source": [
    "Take **one-hot** encoding of the categorical variables"
   ]
  },
  {
   "cell_type": "code",
   "execution_count": 9,
   "metadata": {},
   "outputs": [
    {
     "data": {
      "text/html": [
       "<div>\n",
       "<style>\n",
       "    .dataframe thead tr:only-child th {\n",
       "        text-align: right;\n",
       "    }\n",
       "\n",
       "    .dataframe thead th {\n",
       "        text-align: left;\n",
       "    }\n",
       "\n",
       "    .dataframe tbody tr th {\n",
       "        vertical-align: top;\n",
       "    }\n",
       "</style>\n",
       "<table border=\"1\" class=\"dataframe\">\n",
       "  <thead>\n",
       "    <tr style=\"text-align: right;\">\n",
       "      <th></th>\n",
       "      <th>num_tracks</th>\n",
       "      <th>track_acousticness_avg</th>\n",
       "      <th>track_acousticness_std</th>\n",
       "      <th>track_album_popularity_avg</th>\n",
       "      <th>track_album_popularity_max</th>\n",
       "      <th>track_album_popularity_std</th>\n",
       "      <th>track_artists_genres_unique</th>\n",
       "      <th>track_avg_artist_num_followers_avg</th>\n",
       "      <th>track_avg_artist_num_followers_std</th>\n",
       "      <th>track_avg_artist_popularity_avg</th>\n",
       "      <th>...</th>\n",
       "      <th>track_key_mode_3</th>\n",
       "      <th>track_key_mode_4</th>\n",
       "      <th>track_key_mode_5</th>\n",
       "      <th>track_key_mode_6</th>\n",
       "      <th>track_key_mode_7</th>\n",
       "      <th>track_key_mode_8</th>\n",
       "      <th>track_key_mode_9</th>\n",
       "      <th>track_key_mode_10</th>\n",
       "      <th>track_key_mode_11</th>\n",
       "      <th>log_num_followers</th>\n",
       "    </tr>\n",
       "  </thead>\n",
       "  <tbody>\n",
       "    <tr>\n",
       "      <th>0</th>\n",
       "      <td>52</td>\n",
       "      <td>0.180999</td>\n",
       "      <td>0.171120</td>\n",
       "      <td>71.673077</td>\n",
       "      <td>96</td>\n",
       "      <td>13.136445</td>\n",
       "      <td>60</td>\n",
       "      <td>1.276693e+06</td>\n",
       "      <td>1.320843e+06</td>\n",
       "      <td>82.256410</td>\n",
       "      <td>...</td>\n",
       "      <td>0</td>\n",
       "      <td>0</td>\n",
       "      <td>0</td>\n",
       "      <td>0</td>\n",
       "      <td>0</td>\n",
       "      <td>0</td>\n",
       "      <td>0</td>\n",
       "      <td>0</td>\n",
       "      <td>1</td>\n",
       "      <td>14.914325</td>\n",
       "    </tr>\n",
       "    <tr>\n",
       "      <th>1</th>\n",
       "      <td>75</td>\n",
       "      <td>0.144201</td>\n",
       "      <td>0.160799</td>\n",
       "      <td>68.440000</td>\n",
       "      <td>100</td>\n",
       "      <td>15.511063</td>\n",
       "      <td>70</td>\n",
       "      <td>3.791621e+06</td>\n",
       "      <td>3.658858e+06</td>\n",
       "      <td>84.684000</td>\n",
       "      <td>...</td>\n",
       "      <td>0</td>\n",
       "      <td>0</td>\n",
       "      <td>0</td>\n",
       "      <td>0</td>\n",
       "      <td>0</td>\n",
       "      <td>0</td>\n",
       "      <td>0</td>\n",
       "      <td>0</td>\n",
       "      <td>0</td>\n",
       "      <td>11.142412</td>\n",
       "    </tr>\n",
       "    <tr>\n",
       "      <th>2</th>\n",
       "      <td>38</td>\n",
       "      <td>0.116600</td>\n",
       "      <td>0.117615</td>\n",
       "      <td>72.421053</td>\n",
       "      <td>94</td>\n",
       "      <td>16.192317</td>\n",
       "      <td>44</td>\n",
       "      <td>2.319518e+06</td>\n",
       "      <td>2.237652e+06</td>\n",
       "      <td>86.705263</td>\n",
       "      <td>...</td>\n",
       "      <td>0</td>\n",
       "      <td>0</td>\n",
       "      <td>0</td>\n",
       "      <td>0</td>\n",
       "      <td>0</td>\n",
       "      <td>0</td>\n",
       "      <td>0</td>\n",
       "      <td>0</td>\n",
       "      <td>1</td>\n",
       "      <td>12.863271</td>\n",
       "    </tr>\n",
       "    <tr>\n",
       "      <th>3</th>\n",
       "      <td>40</td>\n",
       "      <td>0.134162</td>\n",
       "      <td>0.247197</td>\n",
       "      <td>57.025000</td>\n",
       "      <td>82</td>\n",
       "      <td>18.083815</td>\n",
       "      <td>97</td>\n",
       "      <td>2.387520e+06</td>\n",
       "      <td>3.589807e+06</td>\n",
       "      <td>72.987500</td>\n",
       "      <td>...</td>\n",
       "      <td>0</td>\n",
       "      <td>0</td>\n",
       "      <td>0</td>\n",
       "      <td>1</td>\n",
       "      <td>0</td>\n",
       "      <td>0</td>\n",
       "      <td>0</td>\n",
       "      <td>0</td>\n",
       "      <td>0</td>\n",
       "      <td>11.146849</td>\n",
       "    </tr>\n",
       "    <tr>\n",
       "      <th>4</th>\n",
       "      <td>26</td>\n",
       "      <td>0.171635</td>\n",
       "      <td>0.229736</td>\n",
       "      <td>53.461538</td>\n",
       "      <td>54</td>\n",
       "      <td>0.498519</td>\n",
       "      <td>5</td>\n",
       "      <td>8.566853e+04</td>\n",
       "      <td>2.347853e+05</td>\n",
       "      <td>55.059341</td>\n",
       "      <td>...</td>\n",
       "      <td>0</td>\n",
       "      <td>0</td>\n",
       "      <td>0</td>\n",
       "      <td>0</td>\n",
       "      <td>0</td>\n",
       "      <td>0</td>\n",
       "      <td>1</td>\n",
       "      <td>0</td>\n",
       "      <td>0</td>\n",
       "      <td>9.655859</td>\n",
       "    </tr>\n",
       "  </tbody>\n",
       "</table>\n",
       "<p>5 rows × 87 columns</p>\n",
       "</div>"
      ],
      "text/plain": [
       "   num_tracks  track_acousticness_avg  track_acousticness_std  \\\n",
       "0          52                0.180999                0.171120   \n",
       "1          75                0.144201                0.160799   \n",
       "2          38                0.116600                0.117615   \n",
       "3          40                0.134162                0.247197   \n",
       "4          26                0.171635                0.229736   \n",
       "\n",
       "   track_album_popularity_avg  track_album_popularity_max  \\\n",
       "0                   71.673077                          96   \n",
       "1                   68.440000                         100   \n",
       "2                   72.421053                          94   \n",
       "3                   57.025000                          82   \n",
       "4                   53.461538                          54   \n",
       "\n",
       "   track_album_popularity_std  track_artists_genres_unique  \\\n",
       "0                   13.136445                           60   \n",
       "1                   15.511063                           70   \n",
       "2                   16.192317                           44   \n",
       "3                   18.083815                           97   \n",
       "4                    0.498519                            5   \n",
       "\n",
       "   track_avg_artist_num_followers_avg  track_avg_artist_num_followers_std  \\\n",
       "0                        1.276693e+06                        1.320843e+06   \n",
       "1                        3.791621e+06                        3.658858e+06   \n",
       "2                        2.319518e+06                        2.237652e+06   \n",
       "3                        2.387520e+06                        3.589807e+06   \n",
       "4                        8.566853e+04                        2.347853e+05   \n",
       "\n",
       "   track_avg_artist_popularity_avg        ...          track_key_mode_3  \\\n",
       "0                        82.256410        ...                         0   \n",
       "1                        84.684000        ...                         0   \n",
       "2                        86.705263        ...                         0   \n",
       "3                        72.987500        ...                         0   \n",
       "4                        55.059341        ...                         0   \n",
       "\n",
       "   track_key_mode_4  track_key_mode_5  track_key_mode_6  track_key_mode_7  \\\n",
       "0                 0                 0                 0                 0   \n",
       "1                 0                 0                 0                 0   \n",
       "2                 0                 0                 0                 0   \n",
       "3                 0                 0                 1                 0   \n",
       "4                 0                 0                 0                 0   \n",
       "\n",
       "   track_key_mode_8  track_key_mode_9  track_key_mode_10  track_key_mode_11  \\\n",
       "0                 0                 0                  0                  1   \n",
       "1                 0                 0                  0                  0   \n",
       "2                 0                 0                  0                  1   \n",
       "3                 0                 0                  0                  0   \n",
       "4                 0                 1                  0                  0   \n",
       "\n",
       "   log_num_followers  \n",
       "0          14.914325  \n",
       "1          11.142412  \n",
       "2          12.863271  \n",
       "3          11.146849  \n",
       "4           9.655859  \n",
       "\n",
       "[5 rows x 87 columns]"
      ]
     },
     "execution_count": 9,
     "metadata": {},
     "output_type": "execute_result"
    }
   ],
   "source": [
    "# Drop the useless varaible 'collaborative'\n",
    "playlists_df_extra.drop(['collaborative'], axis=1, inplace=True)\n",
    "categorical_predictors = ['genre', 'track_time_signature_mode', 'track_key_mode']\n",
    "numerical_predictors = list(set(playlists_df_extra.columns.values) - set(categorical_predictors))\n",
    "\n",
    "# One-hot encode categorical features\n",
    "playlists_df_extra = pd.get_dummies(playlists_df_extra, prefix = categorical_predictors, \n",
    "                                         columns = categorical_predictors, drop_first = True)\n",
    "\n",
    "# Reorder so that the response variable is the last column\n",
    "playlists_df_extra = change_column_order(playlists_df_extra, 'log_num_followers', len(playlists_df_extra.columns))\n",
    "\n",
    "playlists_df_extra.head()"
   ]
  },
  {
   "cell_type": "code",
   "execution_count": 10,
   "metadata": {},
   "outputs": [
    {
     "name": "stdout",
     "output_type": "stream",
     "text": [
      "Is there any missing values in our new dataset: False\n"
     ]
    }
   ],
   "source": [
    "print('Is there any missing values in our new dataset: {}'.format(playlists_df_extra.isnull().values.any()))"
   ]
  },
  {
   "cell_type": "markdown",
   "metadata": {},
   "source": [
    "Split data **6:1:1**\n",
    "1. **train set** for single models: 6/8 of all data\n",
    "2. **validation set** for single models & **train set for meta models**: 1/8 of all data\n",
    "3. **test set**: 1/8 of all data"
   ]
  },
  {
   "cell_type": "code",
   "execution_count": 11,
   "metadata": {
    "collapsed": true
   },
   "outputs": [],
   "source": [
    "np.random.seed(9001)\n",
    "msk1 = np.random.rand(len(playlists_df_extra)) < 0.75\n",
    "playlists_df_train_main = playlists_df_extra[msk1]\n",
    "playlists_df_nontrain_main = playlists_df_extra[~msk1]\n",
    "\n",
    "msk12 = np.random.rand(len(playlists_df_nontrain_main)) < 0.5\n",
    "playlists_df_valid_main = playlists_df_nontrain_main[msk12]\n",
    "playlists_df_test_main = playlists_df_nontrain_main[~msk12]"
   ]
  },
  {
   "cell_type": "code",
   "execution_count": 12,
   "metadata": {},
   "outputs": [
    {
     "data": {
      "text/plain": [
       "((7083, 86), (7083,), (1214, 86), (1214,), (1133, 86), (1133,))"
      ]
     },
     "execution_count": 12,
     "metadata": {},
     "output_type": "execute_result"
    }
   ],
   "source": [
    "# Build predictors & response\n",
    "X_train_main = playlists_df_train_main.iloc[:,:-1]\n",
    "X_valid_main = playlists_df_valid_main.iloc[:,:-1]\n",
    "X_test_main = playlists_df_test_main.iloc[:,:-1]\n",
    "\n",
    "y_train = playlists_df_train_main['log_num_followers']\n",
    "y_valid = playlists_df_valid_main['log_num_followers']\n",
    "y_test = playlists_df_test_main['log_num_followers']\n",
    "\n",
    "X_train_main.shape, y_train.shape, X_valid_main.shape, y_valid.shape, X_test_main.shape, y_test.shape"
   ]
  },
  {
   "cell_type": "markdown",
   "metadata": {},
   "source": [
    "Drop columns that have only 0 and **standardize** numerical variables using **train set's mean and std**"
   ]
  },
  {
   "cell_type": "code",
   "execution_count": 13,
   "metadata": {
    "collapsed": true
   },
   "outputs": [],
   "source": [
    "for col in X_train_main.columns:\n",
    "    if (X_train_main[col] == 0).all():\n",
    "        X_train_main.drop(col, axis=1, inplace=True)\n",
    "    else:\n",
    "        # Standardize a numerical variable\n",
    "        if not np.logical_or((X_train_main[col]==0), ((X_train_main[col]==1))).all():\n",
    "            mean_train = X_train_main[col].mean()\n",
    "            std_train = X_train_main[col].std()\n",
    "            X_train_main[col] = (X_train_main[col] - mean_train) / std_train\n",
    "            X_valid_main[col] = (X_valid_main[col] - mean_train) / std_train\n",
    "            X_test_main[col] = (X_test_main[col] - mean_train) / std_train\n"
   ]
  },
  {
   "cell_type": "markdown",
   "metadata": {},
   "source": [
    "### Regression Models"
   ]
  },
  {
   "cell_type": "markdown",
   "metadata": {},
   "source": [
    "#### Linear regression"
   ]
  },
  {
   "cell_type": "code",
   "execution_count": 14,
   "metadata": {
    "collapsed": true
   },
   "outputs": [],
   "source": [
    "# Fit & Save model\n",
    "sim_lin_main = LinearRegression().fit(X_train_main, y_train)\n",
    "joblib.dump(sim_lin_main, '../../fitted_models_extra/sim_lin_main.pkl') "
   ]
  },
  {
   "cell_type": "code",
   "execution_count": 15,
   "metadata": {},
   "outputs": [
    {
     "name": "stdout",
     "output_type": "stream",
     "text": [
      "-- Linear Regression with all main predictors only --\n",
      "Training R^2:  0.274574920284\n",
      "Test R^2:  0.256241949862\n"
     ]
    }
   ],
   "source": [
    "# Load fitted model to reproduce results\n",
    "sim_lin_main = joblib.load('../../fitted_models_extra/sim_lin_main.pkl') \n",
    "print('-- Linear Regression with all main predictors only --')\n",
    "print('Training R^2: ', sim_lin_main.score(X_train_main, y_train))\n",
    "print('Test R^2: ', sim_lin_main.score(X_test_main, y_test))"
   ]
  },
  {
   "cell_type": "markdown",
   "metadata": {},
   "source": [
    "#### RidgeCV"
   ]
  },
  {
   "cell_type": "code",
   "execution_count": 16,
   "metadata": {
    "collapsed": true
   },
   "outputs": [],
   "source": [
    "lambdas = [1e-5, 1e-4, 1e-3, 1e-2, 1e-1, 1e0, 1e1, 1e2, 1e3, 1e4, 1e5]\n",
    "ridge_cv_main = RidgeCV(alphas=lambdas, fit_intercept=True).fit(X_train_main, y_train)\n",
    "joblib.dump(ridge_cv_main, '../../fitted_models_extra/ridge_cv_main.pkl') "
   ]
  },
  {
   "cell_type": "code",
   "execution_count": 17,
   "metadata": {},
   "outputs": [
    {
     "name": "stdout",
     "output_type": "stream",
     "text": [
      "-- RidgeCV (best alpha = 10.0) with all main predictors only --\n",
      "Training R^2: 0.274174747409772\n",
      "Test R^2: 0.25463769616193843\n"
     ]
    }
   ],
   "source": [
    "# Load fitted model\n",
    "ridge_cv_main = joblib.load('../../fitted_models_extra/ridge_cv_main.pkl') \n",
    "ridge_r2_train_main = ridge_cv_main.score(X_train_main, y_train)\n",
    "ridge_r2_test_main = ridge_cv_main.score(X_test_main, y_test)\n",
    "\n",
    "print('-- RidgeCV (best alpha = {}) with all main predictors only --'.format(ridge_cv_main.alpha_))\n",
    "print(\"Training R^2: {}\".format(ridge_r2_train_main))\n",
    "print(\"Test R^2: {}\".format(ridge_r2_test_main))"
   ]
  },
  {
   "cell_type": "markdown",
   "metadata": {},
   "source": [
    "#### LassoCV "
   ]
  },
  {
   "cell_type": "code",
   "execution_count": 18,
   "metadata": {
    "collapsed": true
   },
   "outputs": [],
   "source": [
    "lambdas = [1e-5, 1e-4, 1e-3, 1e-2, 1e-1, 1e0, 1e1, 1e2, 1e3, 1e4, 1e5]\n",
    "lasso_cv_main = LassoCV(alphas=lambdas, fit_intercept=True).fit(X_train_main, y_train)\n",
    "joblib.dump(lasso_cv_main, '../../fitted_models_extra/lasso_cv_main.pkl') "
   ]
  },
  {
   "cell_type": "code",
   "execution_count": 19,
   "metadata": {},
   "outputs": [
    {
     "name": "stdout",
     "output_type": "stream",
     "text": [
      "-- LassoCV (best alpha = 0.01) with all main predictors only --\n",
      "Training R^2: 0.2668177814282259\n",
      "Test R^2: 0.2539347727528575\n"
     ]
    }
   ],
   "source": [
    "# Load fitted model\n",
    "lasso_cv_main = joblib.load('../../fitted_models_extra/lasso_cv_main.pkl') \n",
    "lasso_r2_train_main = lasso_cv_main.score(X_train_main, y_train)\n",
    "lasso_r2_test_main = lasso_cv_main.score(X_test_main, y_test)\n",
    "\n",
    "print('-- LassoCV (best alpha = {}) with all main predictors only --'.format(lasso_cv_main.alpha_))\n",
    "print(\"Training R^2: {}\".format(lasso_r2_train_main))\n",
    "print(\"Test R^2: {}\".format(lasso_r2_test_main))"
   ]
  },
  {
   "cell_type": "markdown",
   "metadata": {},
   "source": [
    "#### Random Forest"
   ]
  },
  {
   "cell_type": "code",
   "execution_count": 20,
   "metadata": {},
   "outputs": [
    {
     "data": {
      "text/plain": [
       "odict_values([[4, 8, 16, 32, 64, 128, 256], [0.1, 0.3, 0.5, 0.7, 0.9]])"
      ]
     },
     "execution_count": 20,
     "metadata": {},
     "output_type": "execute_result"
    }
   ],
   "source": [
    "RF_params = OrderedDict(\n",
    "    n_estimators = [2**(i+2) for i in np.arange(7)],\n",
    "    max_features = [0.1, 0.3, 0.5, 0.7, 0.9]\n",
    ")\n",
    "RF_params.values()"
   ]
  },
  {
   "cell_type": "code",
   "execution_count": 21,
   "metadata": {
    "collapsed": true
   },
   "outputs": [],
   "source": [
    "# Use 5-fold validation to find the optimal n_estimators and max_features for Random Forest Regression\n",
    "cv_scores_RF_main = []\n",
    "params_dict_RF_main = {}\n",
    "\n",
    "for i, (n, f) in enumerate(product(*RF_params.values())):\n",
    "    params_dict_RF_main[i] = (n, f)\n",
    "    \n",
    "    # Cross Validation on Random Forest Classifier\n",
    "    RF_main = RandomForestRegressor(oob_score=False, n_estimators=n, max_features=f, n_jobs=-1, random_state=22)\n",
    "    scores = cross_val_score(RF_main, X_train_main, y_train, cv=5, scoring='r2')\n",
    "    cv_scores_RF_main.append(scores.mean())\n",
    "\n",
    "# Get the optimal set of parameters of the Random Forest Regressor\n",
    "idx_optimal = np.argmax(cv_scores_RF_main)\n",
    "optimal_params_RF_main = params_dict_RF_main[idx_optimal]\n",
    "print('-- Random Forest Regression with all main predictors only --')\n",
    "print('Maximum R^2 validation score = {}'.format(max(cv_scores_RF_main)))\n",
    "print('Optimal n_estimators = {}'.format(optimal_params_RF_main[0]))\n",
    "print('Optimal max_features = {}'.format(optimal_params_RF_main[1]))\n",
    "\n",
    "# Fit the best RF\n",
    "RF_best_main = RandomForestRegressor(oob_score=False, n_estimators=optimal_params_RF_main[0], \n",
    "                                     max_features=optimal_params_RF_main[1], n_jobs=-1, \n",
    "                                     random_state=22).fit(X_train_main, y_train)\n",
    "RF_best_r2_train_main = RF_best_main.score(X_train_main, y_train)\n",
    "RF_best_r2_test_main = RF_best_main.score(X_test_main, y_test)\n",
    "print('-- Best Random Forest Regression --')\n",
    "print(\"Training R^2: {}\".format(RF_best_r2_train_main))\n",
    "print(\"Test R^2: {}\".format(RF_best_r2_test_main))\n",
    "\n",
    "# Dump fitted model to disk\n",
    "joblib.dump(RF_best_main, '../../fitted_models_extra/RF_best_main.pkl') "
   ]
  },
  {
   "cell_type": "markdown",
   "metadata": {},
   "source": [
    "Load fitted model to reproduce results directly"
   ]
  },
  {
   "cell_type": "code",
   "execution_count": 22,
   "metadata": {},
   "outputs": [
    {
     "name": "stdout",
     "output_type": "stream",
     "text": [
      "-- Best Random Forest Regression with all main predictors only --\n",
      "Training R^2: 0.9260804564458209\n",
      "Test R^2: 0.47225563755064515\n"
     ]
    }
   ],
   "source": [
    "# Load fitted model to reproduce results\n",
    "RF_best_main = joblib.load('../../fitted_models_extra/RF_best_main.pkl') \n",
    "RF_best_r2_train_main = RF_best_main.score(X_train_main, y_train)\n",
    "RF_best_r2_test_main = RF_best_main.score(X_test_main, y_test)\n",
    "print('-- Best Random Forest Regression with all main predictors only --')\n",
    "print(\"Training R^2: {}\".format(RF_best_r2_train_main))\n",
    "print(\"Test R^2: {}\".format(RF_best_r2_test_main))"
   ]
  },
  {
   "cell_type": "markdown",
   "metadata": {},
   "source": [
    "#### Adaboost Regression"
   ]
  },
  {
   "cell_type": "code",
   "execution_count": 23,
   "metadata": {},
   "outputs": [
    {
     "data": {
      "text/plain": [
       "odict_values([[2, 4, 6, 8], [4, 8, 16, 32, 64, 128, 256]])"
      ]
     },
     "execution_count": 23,
     "metadata": {},
     "output_type": "execute_result"
    }
   ],
   "source": [
    "ab_params = OrderedDict(\n",
    "    base_depths = [2, 4, 6, 8],\n",
    "    n_estimators = [2**(i+2) for i in np.arange(7)]\n",
    ")\n",
    "ab_params.values()"
   ]
  },
  {
   "cell_type": "code",
   "execution_count": 24,
   "metadata": {
    "collapsed": true
   },
   "outputs": [],
   "source": [
    "# Use 5-fold CV to choose max_depth & n_estimators in AdaBoost Regressor\n",
    "l_rate = 0.05\n",
    "params_dict_ab_main = {}\n",
    "cv_scores_ab_main = []\n",
    "for i, (d, n) in enumerate(product(*ab_params.values())):\n",
    "    params_dict_ab_main[i] = (d, n)\n",
    "    ab_main = AdaBoostRegressor(DecisionTreeRegressor(max_depth=d, random_state=22), n_estimators=n, \n",
    "                                learning_rate=l_rate, random_state=22)\n",
    "    scores = cross_val_score(ab_main, X_train_main, y_train, cv=5, scoring='r2')\n",
    "    cv_scores_ab_main.append(scores.mean())\n",
    "\n",
    "\n",
    "# Get the optimal set of parameters of the Random Forest Regressor\n",
    "idx_optimal = np.argmax(cv_scores_ab_main)\n",
    "optimal_params_ab_main = params_dict_ab_main[idx_optimal]\n",
    "print('-- AdaBoost Regression with all main predictors only --')\n",
    "print('Maximum R^2 cv score = {}'.format(max(cv_scores_ab_main)))\n",
    "print('Optimal base tree max_depth = {}'.format(optimal_params_ab_main[0]))\n",
    "print('Optimal n_estimators = {}'.format(optimal_params_ab_main[1]))\n",
    "\n",
    "# Fit the best Adaboost regressor\n",
    "ab_best_main = AdaBoostRegressor(DecisionTreeRegressor(max_depth=optimal_params_ab_main[0], random_state=22), \n",
    "                                 n_estimators=optimal_params_ab_main[1], learning_rate=l_rate, \n",
    "                                 random_state=22).fit(X_train_main, y_train)\n",
    "\n",
    "ab_best_r2_train_main = ab_best_main.score(X_train_main, y_train)\n",
    "ab_best_r2_test_main = ab_best_main.score(X_test_main, y_test)\n",
    "print('-- Best AdaBoost Regression --')\n",
    "print(\"Training R^2: {}\".format(ab_best_r2_train_main))\n",
    "print(\"Test R^2: {}\".format(ab_best_r2_test_main))\n",
    "\n",
    "# Dump fitted model to disk\n",
    "joblib.dump(ab_best_main, '../../fitted_models_extra/ab_best_main.pkl') "
   ]
  },
  {
   "cell_type": "markdown",
   "metadata": {},
   "source": [
    "Load fitted model to reproduce results directly"
   ]
  },
  {
   "cell_type": "code",
   "execution_count": 25,
   "metadata": {},
   "outputs": [
    {
     "name": "stdout",
     "output_type": "stream",
     "text": [
      "-- Best AdaBoost Regression with all main predictors only --\n",
      "Training R^2: 0.6621121188291732\n",
      "Test R^2: 0.41227040525395264\n"
     ]
    }
   ],
   "source": [
    "# Load fitted model to reproduce results\n",
    "ab_best_main = joblib.load('../../fitted_models_extra/ab_best_main.pkl') \n",
    "ab_best_r2_train_main = ab_best_main.score(X_train_main, y_train)\n",
    "ab_best_r2_test_main = ab_best_main.score(X_test_main, y_test)\n",
    "print('-- Best AdaBoost Regression with all main predictors only --')\n",
    "print(\"Training R^2: {}\".format(ab_best_r2_train_main))\n",
    "print(\"Test R^2: {}\".format(ab_best_r2_test_main))"
   ]
  },
  {
   "cell_type": "markdown",
   "metadata": {},
   "source": [
    "#### Meta Model: Weighted Avg"
   ]
  },
  {
   "cell_type": "code",
   "execution_count": 26,
   "metadata": {},
   "outputs": [
    {
     "name": "stdout",
     "output_type": "stream",
     "text": [
      "-- Meta model 1: Weighted Avg with all main predictors only --\n",
      "Valid (Meta Train) R^2: 0.40880273711359416\n",
      "Test R^2: 0.40446925924097\n"
     ]
    }
   ],
   "source": [
    "prefix = '../../fitted_models_extra/'\n",
    "suffix = '.pkl'\n",
    "models_main = ['sim_lin_main', 'ridge_cv_main', 'lasso_cv_main', 'RF_best_main', 'ab_best_main']\n",
    "\n",
    "# Record model's r2 score and predicted results on validation set\n",
    "weights_main = np.zeros((len(models_main),))\n",
    "preds_main_valid = np.zeros((y_valid.shape[0], len(models_main)))\n",
    "preds_main_test = np.zeros((y_test.shape[0], len(models_main)))\n",
    "for i, name in enumerate(models_main):\n",
    "    model_name = prefix + name + suffix\n",
    "    model = joblib.load(model_name) \n",
    "    weights_main[i] = model.score(X_valid_main, y_valid)\n",
    "    preds_main_valid[:, i] = model.predict(X_valid_main)\n",
    "    preds_main_test[:, i] = model.predict(X_test_main)\n",
    "\n",
    "weights_main = weights_main/np.sum(weights_main)\n",
    "meta_pred_main_valid = np.average(preds_main_valid, axis=1, weights=weights_main)\n",
    "meta_pred_main_test = np.average(preds_main_test, axis=1, weights=weights_main)\n",
    "\n",
    "meta_r2_valid_main = r2_score(y_valid, meta_pred_main_valid)\n",
    "meta_r2_test_main = r2_score(y_test, meta_pred_main_test)\n",
    "print('-- Meta model 1: Weighted Avg with all main predictors only --')\n",
    "print(\"Valid (Meta Train) R^2: {}\".format(meta_r2_valid_main))\n",
    "print(\"Test R^2: {}\".format(meta_r2_test_main))"
   ]
  },
  {
   "cell_type": "markdown",
   "metadata": {},
   "source": [
    "#### Meta Model: Linear Regression"
   ]
  },
  {
   "cell_type": "code",
   "execution_count": 27,
   "metadata": {},
   "outputs": [
    {
     "name": "stdout",
     "output_type": "stream",
     "text": [
      "-- Meta model 2: Linear Regression with all main predictors only --\n",
      "Train R^2: 0.4872242995695527\n",
      "Test R^2: 0.48532625439707866\n"
     ]
    }
   ],
   "source": [
    "# Record model's predicted results on validation set as the train set for the meta regressor\n",
    "meta_X_train_main = np.zeros((y_valid.shape[0], len(models_main)))\n",
    "meta_X_test_main = np.zeros((y_test.shape[0], len(models_main)))\n",
    "for i, name in enumerate(models_main):\n",
    "    model_name = prefix + name + suffix\n",
    "    model = joblib.load(model_name) \n",
    "    meta_X_train_main[:, i] = model.predict(X_valid_main)\n",
    "    meta_X_test_main[:, i] = model.predict(X_test_main)\n",
    "\n",
    "meta_reg_main = LinearRegression().fit(meta_X_train_main, y_valid)\n",
    "joblib.dump(meta_reg_main, '../../fitted_models_extra/meta_reg_main.pkl') # Dump fitted model to disk\n",
    "\n",
    "# Load fitted model to reproduce results\n",
    "meta_reg_main = joblib.load('../../fitted_models_extra/meta_reg_main.pkl') \n",
    "print('-- Meta model 2: Linear Regression with all main predictors only --')\n",
    "print(\"Train R^2: {}\".format(meta_reg_main.score(meta_X_train_main, y_valid)))\n",
    "print(\"Test R^2: {}\".format(meta_reg_main.score(meta_X_test_main, y_test)))"
   ]
  },
  {
   "cell_type": "markdown",
   "metadata": {},
   "source": [
    "## Regression models with main predictors & interaction terms"
   ]
  },
  {
   "cell_type": "markdown",
   "metadata": {},
   "source": [
    "### Data Processing"
   ]
  },
  {
   "cell_type": "markdown",
   "metadata": {},
   "source": [
    "Add interaction terms between **genres** and the **numerical audio features' average**"
   ]
  },
  {
   "cell_type": "code",
   "execution_count": 28,
   "metadata": {
    "collapsed": true
   },
   "outputs": [],
   "source": [
    "audio_features_avg = ['track_acousticness_avg', 'track_album_popularity_avg', 'track_danceability_avg',\n",
    "                    'track_duration_ms_avg', 'track_energy_avg', 'track_explicit_avg', \n",
    "                    'track_instrumentalness_avg', 'track_liveness_avg', 'track_loudness_avg', 'track_mode_avg', \n",
    "                    'track_speechiness_avg', 'track_tempo_avg', 'track_valence_avg']\n",
    "genres = ['genre_blues', 'genre_classical', 'genre_country', 'genre_dance',\n",
    "       'genre_edm', 'genre_elect', 'genre_folk', 'genre_funk', 'genre_hip hop',\n",
    "       'genre_house', 'genre_indie', 'genre_indie pop', 'genre_jazz',\n",
    "       'genre_korean pop', 'genre_mellow', 'genre_metal', 'genre_other',\n",
    "       'genre_pop', 'genre_pop christmas', 'genre_pop rap', 'genre_punk',\n",
    "       'genre_r&b', 'genre_rap', 'genre_reggae', 'genre_rock', 'genre_soul',]\n",
    "\n",
    "cross_terms = audio_features_avg + genres"
   ]
  },
  {
   "cell_type": "code",
   "execution_count": 29,
   "metadata": {},
   "outputs": [
    {
     "data": {
      "text/html": [
       "<div>\n",
       "<style>\n",
       "    .dataframe thead tr:only-child th {\n",
       "        text-align: right;\n",
       "    }\n",
       "\n",
       "    .dataframe thead th {\n",
       "        text-align: left;\n",
       "    }\n",
       "\n",
       "    .dataframe tbody tr th {\n",
       "        vertical-align: top;\n",
       "    }\n",
       "</style>\n",
       "<table border=\"1\" class=\"dataframe\">\n",
       "  <thead>\n",
       "    <tr style=\"text-align: right;\">\n",
       "      <th></th>\n",
       "      <th>num_tracks</th>\n",
       "      <th>track_acousticness_avg</th>\n",
       "      <th>track_acousticness_std</th>\n",
       "      <th>track_album_popularity_avg</th>\n",
       "      <th>track_album_popularity_max</th>\n",
       "      <th>track_album_popularity_std</th>\n",
       "      <th>track_artists_genres_unique</th>\n",
       "      <th>track_avg_artist_num_followers_avg</th>\n",
       "      <th>track_avg_artist_num_followers_std</th>\n",
       "      <th>track_avg_artist_popularity_avg</th>\n",
       "      <th>...</th>\n",
       "      <th>track_valence_avg_X_genre_pop</th>\n",
       "      <th>track_valence_avg_X_genre_pop christmas</th>\n",
       "      <th>track_valence_avg_X_genre_pop rap</th>\n",
       "      <th>track_valence_avg_X_genre_punk</th>\n",
       "      <th>track_valence_avg_X_genre_r&amp;b</th>\n",
       "      <th>track_valence_avg_X_genre_rap</th>\n",
       "      <th>track_valence_avg_X_genre_reggae</th>\n",
       "      <th>track_valence_avg_X_genre_rock</th>\n",
       "      <th>track_valence_avg_X_genre_soul</th>\n",
       "      <th>log_num_followers</th>\n",
       "    </tr>\n",
       "  </thead>\n",
       "  <tbody>\n",
       "    <tr>\n",
       "      <th>0</th>\n",
       "      <td>52</td>\n",
       "      <td>0.180999</td>\n",
       "      <td>0.171120</td>\n",
       "      <td>71.673077</td>\n",
       "      <td>96</td>\n",
       "      <td>13.136445</td>\n",
       "      <td>60</td>\n",
       "      <td>1.276693e+06</td>\n",
       "      <td>1.320843e+06</td>\n",
       "      <td>82.256410</td>\n",
       "      <td>...</td>\n",
       "      <td>0.456071</td>\n",
       "      <td>0.0</td>\n",
       "      <td>0.0</td>\n",
       "      <td>0.0</td>\n",
       "      <td>0.0</td>\n",
       "      <td>0.0</td>\n",
       "      <td>0.0</td>\n",
       "      <td>0.0</td>\n",
       "      <td>0.0</td>\n",
       "      <td>14.914325</td>\n",
       "    </tr>\n",
       "    <tr>\n",
       "      <th>1</th>\n",
       "      <td>75</td>\n",
       "      <td>0.144201</td>\n",
       "      <td>0.160799</td>\n",
       "      <td>68.440000</td>\n",
       "      <td>100</td>\n",
       "      <td>15.511063</td>\n",
       "      <td>70</td>\n",
       "      <td>3.791621e+06</td>\n",
       "      <td>3.658858e+06</td>\n",
       "      <td>84.684000</td>\n",
       "      <td>...</td>\n",
       "      <td>0.555027</td>\n",
       "      <td>0.0</td>\n",
       "      <td>0.0</td>\n",
       "      <td>0.0</td>\n",
       "      <td>0.0</td>\n",
       "      <td>0.0</td>\n",
       "      <td>0.0</td>\n",
       "      <td>0.0</td>\n",
       "      <td>0.0</td>\n",
       "      <td>11.142412</td>\n",
       "    </tr>\n",
       "    <tr>\n",
       "      <th>2</th>\n",
       "      <td>38</td>\n",
       "      <td>0.116600</td>\n",
       "      <td>0.117615</td>\n",
       "      <td>72.421053</td>\n",
       "      <td>94</td>\n",
       "      <td>16.192317</td>\n",
       "      <td>44</td>\n",
       "      <td>2.319518e+06</td>\n",
       "      <td>2.237652e+06</td>\n",
       "      <td>86.705263</td>\n",
       "      <td>...</td>\n",
       "      <td>0.526526</td>\n",
       "      <td>0.0</td>\n",
       "      <td>0.0</td>\n",
       "      <td>0.0</td>\n",
       "      <td>0.0</td>\n",
       "      <td>0.0</td>\n",
       "      <td>0.0</td>\n",
       "      <td>0.0</td>\n",
       "      <td>0.0</td>\n",
       "      <td>12.863271</td>\n",
       "    </tr>\n",
       "    <tr>\n",
       "      <th>3</th>\n",
       "      <td>40</td>\n",
       "      <td>0.134162</td>\n",
       "      <td>0.247197</td>\n",
       "      <td>57.025000</td>\n",
       "      <td>82</td>\n",
       "      <td>18.083815</td>\n",
       "      <td>97</td>\n",
       "      <td>2.387520e+06</td>\n",
       "      <td>3.589807e+06</td>\n",
       "      <td>72.987500</td>\n",
       "      <td>...</td>\n",
       "      <td>0.501825</td>\n",
       "      <td>0.0</td>\n",
       "      <td>0.0</td>\n",
       "      <td>0.0</td>\n",
       "      <td>0.0</td>\n",
       "      <td>0.0</td>\n",
       "      <td>0.0</td>\n",
       "      <td>0.0</td>\n",
       "      <td>0.0</td>\n",
       "      <td>11.146849</td>\n",
       "    </tr>\n",
       "    <tr>\n",
       "      <th>4</th>\n",
       "      <td>26</td>\n",
       "      <td>0.171635</td>\n",
       "      <td>0.229736</td>\n",
       "      <td>53.461538</td>\n",
       "      <td>54</td>\n",
       "      <td>0.498519</td>\n",
       "      <td>5</td>\n",
       "      <td>8.566853e+04</td>\n",
       "      <td>2.347853e+05</td>\n",
       "      <td>55.059341</td>\n",
       "      <td>...</td>\n",
       "      <td>0.658846</td>\n",
       "      <td>0.0</td>\n",
       "      <td>0.0</td>\n",
       "      <td>0.0</td>\n",
       "      <td>0.0</td>\n",
       "      <td>0.0</td>\n",
       "      <td>0.0</td>\n",
       "      <td>0.0</td>\n",
       "      <td>0.0</td>\n",
       "      <td>9.655859</td>\n",
       "    </tr>\n",
       "  </tbody>\n",
       "</table>\n",
       "<p>5 rows × 425 columns</p>\n",
       "</div>"
      ],
      "text/plain": [
       "   num_tracks  track_acousticness_avg  track_acousticness_std  \\\n",
       "0          52                0.180999                0.171120   \n",
       "1          75                0.144201                0.160799   \n",
       "2          38                0.116600                0.117615   \n",
       "3          40                0.134162                0.247197   \n",
       "4          26                0.171635                0.229736   \n",
       "\n",
       "   track_album_popularity_avg  track_album_popularity_max  \\\n",
       "0                   71.673077                          96   \n",
       "1                   68.440000                         100   \n",
       "2                   72.421053                          94   \n",
       "3                   57.025000                          82   \n",
       "4                   53.461538                          54   \n",
       "\n",
       "   track_album_popularity_std  track_artists_genres_unique  \\\n",
       "0                   13.136445                           60   \n",
       "1                   15.511063                           70   \n",
       "2                   16.192317                           44   \n",
       "3                   18.083815                           97   \n",
       "4                    0.498519                            5   \n",
       "\n",
       "   track_avg_artist_num_followers_avg  track_avg_artist_num_followers_std  \\\n",
       "0                        1.276693e+06                        1.320843e+06   \n",
       "1                        3.791621e+06                        3.658858e+06   \n",
       "2                        2.319518e+06                        2.237652e+06   \n",
       "3                        2.387520e+06                        3.589807e+06   \n",
       "4                        8.566853e+04                        2.347853e+05   \n",
       "\n",
       "   track_avg_artist_popularity_avg        ...          \\\n",
       "0                        82.256410        ...           \n",
       "1                        84.684000        ...           \n",
       "2                        86.705263        ...           \n",
       "3                        72.987500        ...           \n",
       "4                        55.059341        ...           \n",
       "\n",
       "   track_valence_avg_X_genre_pop  track_valence_avg_X_genre_pop christmas  \\\n",
       "0                       0.456071                                      0.0   \n",
       "1                       0.555027                                      0.0   \n",
       "2                       0.526526                                      0.0   \n",
       "3                       0.501825                                      0.0   \n",
       "4                       0.658846                                      0.0   \n",
       "\n",
       "   track_valence_avg_X_genre_pop rap  track_valence_avg_X_genre_punk  \\\n",
       "0                                0.0                             0.0   \n",
       "1                                0.0                             0.0   \n",
       "2                                0.0                             0.0   \n",
       "3                                0.0                             0.0   \n",
       "4                                0.0                             0.0   \n",
       "\n",
       "   track_valence_avg_X_genre_r&b  track_valence_avg_X_genre_rap  \\\n",
       "0                            0.0                            0.0   \n",
       "1                            0.0                            0.0   \n",
       "2                            0.0                            0.0   \n",
       "3                            0.0                            0.0   \n",
       "4                            0.0                            0.0   \n",
       "\n",
       "   track_valence_avg_X_genre_reggae  track_valence_avg_X_genre_rock  \\\n",
       "0                               0.0                             0.0   \n",
       "1                               0.0                             0.0   \n",
       "2                               0.0                             0.0   \n",
       "3                               0.0                             0.0   \n",
       "4                               0.0                             0.0   \n",
       "\n",
       "   track_valence_avg_X_genre_soul  log_num_followers  \n",
       "0                             0.0          14.914325  \n",
       "1                             0.0          11.142412  \n",
       "2                             0.0          12.863271  \n",
       "3                             0.0          11.146849  \n",
       "4                             0.0           9.655859  \n",
       "\n",
       "[5 rows x 425 columns]"
      ]
     },
     "execution_count": 29,
     "metadata": {},
     "output_type": "execute_result"
    }
   ],
   "source": [
    "# Make a copy of the raw playlists dataframe with extra dataset info\n",
    "playlists_df_interaction = deepcopy(playlists_df_extra)\n",
    "\n",
    "# Generate 2-way interaction terms\n",
    "for feature in audio_features_avg:\n",
    "    for genre in genres:\n",
    "        playlists_df_interaction[feature+'_X_'+genre] = playlists_df_extra[feature] * playlists_df_extra[genre]\n",
    "\n",
    "playlists_df_interaction = change_column_order(playlists_df_interaction, 'log_num_followers', len(playlists_df_interaction.columns))\n",
    "playlists_df_interaction.head()"
   ]
  },
  {
   "cell_type": "markdown",
   "metadata": {},
   "source": [
    "Split data **6:1:1**\n",
    "1. **train set** for single models: 6/8 of all data\n",
    "2. **validation set** for single models & **train set for meta models**: 1/8 of all data\n",
    "3. **test set**: 1/8 of all data"
   ]
  },
  {
   "cell_type": "code",
   "execution_count": 30,
   "metadata": {
    "collapsed": true
   },
   "outputs": [],
   "source": [
    "# Split data into train & test set\n",
    "np.random.seed(9001)\n",
    "msk2 = np.random.rand(len(playlists_df_interaction)) < 0.75\n",
    "playlists_df_train_int = playlists_df_interaction[msk2]\n",
    "playlists_df_nontrain_int = playlists_df_interaction[~msk2]\n",
    "\n",
    "msk22 = np.random.rand(len(playlists_df_nontrain_int)) < 0.5\n",
    "playlists_df_valid_int = playlists_df_nontrain_int[msk22]\n",
    "playlists_df_test_int = playlists_df_nontrain_int[~msk22]"
   ]
  },
  {
   "cell_type": "code",
   "execution_count": 31,
   "metadata": {},
   "outputs": [
    {
     "data": {
      "text/plain": [
       "((7083, 424), (7083,), (1214, 424), (1214,), (1133, 424), (1133,))"
      ]
     },
     "execution_count": 31,
     "metadata": {},
     "output_type": "execute_result"
    }
   ],
   "source": [
    "# Build predictors & response\n",
    "X_train_int = playlists_df_train_int.iloc[:,:-1]\n",
    "X_valid_int = playlists_df_valid_int.iloc[:,:-1]\n",
    "X_test_int = playlists_df_test_int.iloc[:,:-1]\n",
    "\n",
    "X_train_int.shape, y_train.shape, X_valid_int.shape, y_valid.shape, X_test_int.shape, y_test.shape"
   ]
  },
  {
   "cell_type": "markdown",
   "metadata": {},
   "source": [
    "Drop columns that have only 0 and **standardize** numerical variables using **train set's mean and std**"
   ]
  },
  {
   "cell_type": "code",
   "execution_count": 32,
   "metadata": {
    "collapsed": true
   },
   "outputs": [],
   "source": [
    "for col in X_train_int.columns:\n",
    "    if (X_train_int[col] == 0).all():\n",
    "        X_train_int.drop(col, axis=1, inplace=True)\n",
    "    else:\n",
    "        # Standardize a numerical variable\n",
    "        if not np.logical_or((X_train_int[col]==0), ((X_train_int[col]==1))).all():\n",
    "            mean_train = X_train_int[col].mean()\n",
    "            std_train = X_train_int[col].std()\n",
    "            X_train_int[col] = (X_train_int[col] - mean_train) / std_train\n",
    "            X_valid_int[col] = (X_valid_int[col] - mean_train) / std_train\n",
    "            X_test_int[col] = (X_test_int[col] - mean_train) / std_train\n"
   ]
  },
  {
   "cell_type": "markdown",
   "metadata": {},
   "source": [
    "### Regression Models"
   ]
  },
  {
   "cell_type": "markdown",
   "metadata": {},
   "source": [
    "#### Linear regression"
   ]
  },
  {
   "cell_type": "code",
   "execution_count": 33,
   "metadata": {
    "collapsed": true
   },
   "outputs": [],
   "source": [
    "# Fit & Save Model\n",
    "sim_lin_int = LinearRegression().fit(X_train_int, y_train)\n",
    "joblib.dump(sim_lin_int, '../../fitted_models_extra/sim_lin_int.pkl') "
   ]
  },
  {
   "cell_type": "code",
   "execution_count": 34,
   "metadata": {},
   "outputs": [
    {
     "name": "stdout",
     "output_type": "stream",
     "text": [
      "-- Linear Regression with main predictors and interaction terms --\n",
      "Training R^2:  0.334319723639\n",
      "Test R^2:  0.249699128912\n"
     ]
    }
   ],
   "source": [
    "# Load fitted model to reproduce results\n",
    "sim_lin_int = joblib.load('../../fitted_models_extra/sim_lin_int.pkl') \n",
    "print('-- Linear Regression with main predictors and interaction terms --')\n",
    "print('Training R^2: ', sim_lin_int.score(X_train_int, y_train))\n",
    "print('Test R^2: ', sim_lin_int.score(X_test_int, y_test))"
   ]
  },
  {
   "cell_type": "markdown",
   "metadata": {},
   "source": [
    "#### Perform PCA on main predictors & their interaction terms\n",
    "Use 5-Fold cross-validation to find the best n_components of PCA"
   ]
  },
  {
   "cell_type": "code",
   "execution_count": 35,
   "metadata": {},
   "outputs": [
    {
     "name": "stdout",
     "output_type": "stream",
     "text": [
      "The best n_components for PCA is 189\n"
     ]
    }
   ],
   "source": [
    "n_pca = 200\n",
    "r2_valid_cv = np.zeros((n_pca, 5))\n",
    "\n",
    "fold_ctr = 0\n",
    "for itrain, ivalid in KFold(n_splits=5, shuffle=True, random_state=9001).split(X_train_int.index):\n",
    "    # in general though its good for creating consistent psets, don't put seeds into kfold split\n",
    "    X_train_cv = X_train_int.iloc[itrain,:]\n",
    "    y_train_cv = y_train.iloc[itrain]\n",
    "    X_valid_cv = X_train_int.iloc[ivalid,:]\n",
    "    y_valid_cv = y_train.iloc[ivalid]\n",
    "    \n",
    "    # pca\n",
    "    pca = PCA()\n",
    "    pca.fit(X_train_cv)\n",
    "    X_train_pca_cv = pca.transform(X_train_cv)\n",
    "    X_valid_pca_cv = pca.transform(X_valid_cv)\n",
    "    \n",
    "    for comp in range(1, n_pca+1):\n",
    "        linear_cv = LinearRegression().fit(X_train_pca_cv[:,:comp], y_train_cv) # fit model\n",
    "        r2_valid_cv[comp-1,fold_ctr] = linear_cv.score(X_valid_pca_cv[:,:comp], y_valid_cv) # get valid r2 score\n",
    "        \n",
    "    fold_ctr += 1\n",
    "\n",
    "\n",
    "scores_valid = np.mean(r2_valid_cv, axis=1)[1:]\n",
    "best_n = np.argmax(scores_valid)\n",
    "print('The best n_components for PCA is {}'.format(best_n))"
   ]
  },
  {
   "cell_type": "code",
   "execution_count": 36,
   "metadata": {},
   "outputs": [
    {
     "name": "stdout",
     "output_type": "stream",
     "text": [
      "-- Linear Regression with main predictors and interaction terms best PCA(n_components=189) --\n",
      "Training R^2: 0.2743324728328148\n",
      "Test R^2: 0.20661172561646202\n"
     ]
    }
   ],
   "source": [
    "pca = PCA()\n",
    "pca.fit(X_train_int)\n",
    "\n",
    "X_train_int_pca_best = pca.transform(X_train_int)[:,:best_n]\n",
    "X_test_int_pca_best = pca.transform(X_test_int)[:,:best_n]\n",
    "\n",
    "linear_pca_best = LinearRegression().fit(X_train_int_pca_best, y_train)\n",
    "score_train_pca_best = linear_pca_best.score(X_train_int_pca_best, y_train)\n",
    "score_test_pca_best = linear_pca_best.score(X_test_int_pca_best, y_test)\n",
    "\n",
    "print('-- Linear Regression with main predictors and interaction terms best PCA(n_components={}) --'.format(best_n))\n",
    "print(\"Training R^2: {}\".format(score_train_pca_best))\n",
    "print(\"Test R^2: {}\".format(score_test_pca_best))"
   ]
  },
  {
   "cell_type": "markdown",
   "metadata": {},
   "source": [
    "#### RidgeCV "
   ]
  },
  {
   "cell_type": "code",
   "execution_count": 37,
   "metadata": {
    "collapsed": true
   },
   "outputs": [],
   "source": [
    "lambdas = [1e-5, 1e-4, 1e-3, 1e-2, 1e-1, 1e0, 1e1, 1e2, 1e3, 1e4, 1e5]\n",
    "ridge_cv_int = RidgeCV(alphas=lambdas, fit_intercept=True).fit(X_train_int, y_train)\n",
    "joblib.dump(ridge_cv_int, '../../fitted_models_extra/ridge_cv_int.pkl') "
   ]
  },
  {
   "cell_type": "code",
   "execution_count": 38,
   "metadata": {},
   "outputs": [
    {
     "name": "stdout",
     "output_type": "stream",
     "text": [
      "-- RidgeCV (best alpha = 100.0) with main predictors and interaction terms --\n",
      "Training R^2: 0.30972349243028685\n",
      "Test R^2: 0.254361820516916\n"
     ]
    }
   ],
   "source": [
    "# Load fitted model\n",
    "ridge_cv_int = joblib.load('../../fitted_models_extra/ridge_cv_int.pkl') \n",
    "ridge_r2_train_int = ridge_cv_int.score(X_train_int, y_train)\n",
    "ridge_r2_test_int = ridge_cv_int.score(X_test_int, y_test)\n",
    "\n",
    "print('-- RidgeCV (best alpha = {}) with main predictors and interaction terms --'.format(ridge_cv_int.alpha_))\n",
    "print(\"Training R^2: {}\".format(ridge_r2_train_int))\n",
    "print(\"Test R^2: {}\".format(ridge_r2_test_int))"
   ]
  },
  {
   "cell_type": "markdown",
   "metadata": {},
   "source": [
    "#### LassoCV"
   ]
  },
  {
   "cell_type": "code",
   "execution_count": 39,
   "metadata": {
    "collapsed": true
   },
   "outputs": [],
   "source": [
    "lambdas = [1e-5, 1e-4, 1e-3, 1e-2, 1e-1, 1e0, 1e1, 1e2, 1e3, 1e4, 1e5]\n",
    "lasso_cv_int = LassoCV(alphas=lambdas, fit_intercept=True).fit(X_train_int, y_train)\n",
    "joblib.dump(lasso_cv_int, '../../fitted_models_extra/lasso_cv_int.pkl') "
   ]
  },
  {
   "cell_type": "code",
   "execution_count": 40,
   "metadata": {},
   "outputs": [
    {
     "name": "stdout",
     "output_type": "stream",
     "text": [
      "-- LassoCV (best alpha = 0.01) with main predictors and interaction terms --\n",
      "Training R^2: 0.29734926714259624\n",
      "Test R^2: 0.27189212271615415\n"
     ]
    }
   ],
   "source": [
    "# Load fitted model\n",
    "lasso_cv_int = joblib.load('../../fitted_models_extra/lasso_cv_int.pkl') \n",
    "lasso_r2_train_int = lasso_cv_int.score(X_train_int, y_train)\n",
    "lasso_r2_test_int = lasso_cv_int.score(X_test_int, y_test)\n",
    "\n",
    "print('-- LassoCV (best alpha = {}) with main predictors and interaction terms --'.format(lasso_cv_int.alpha_))\n",
    "print(\"Training R^2: {}\".format(lasso_r2_train_int))\n",
    "print(\"Test R^2: {}\".format(lasso_r2_test_int))"
   ]
  },
  {
   "cell_type": "markdown",
   "metadata": {},
   "source": [
    "#### Random Forest "
   ]
  },
  {
   "cell_type": "code",
   "execution_count": 41,
   "metadata": {
    "collapsed": true
   },
   "outputs": [],
   "source": [
    "# Use 5-fold CV to find the optimal n_estimators and max_features\n",
    "cv_scores_RF_int = []\n",
    "params_dict_RF_int = {}\n",
    "\n",
    "for i, (n, f) in enumerate(product(*RF_params.values())):\n",
    "    params_dict_RF_int[i] = (n, f)\n",
    "    \n",
    "    # Cross Validation on Random Forest Classifier\n",
    "    RF_int = RandomForestRegressor(oob_score=False, n_estimators=n, max_features=f, n_jobs=-1, random_state=22)\n",
    "    scores = cross_val_score(RF_int, X_train_main, y_train, cv=5, scoring='r2')\n",
    "    cv_scores_RF_int.append(scores.mean())\n",
    "\n",
    "# Get the optimal set of parameters of the Random Forest Regressor\n",
    "idx_optimal = np.argmax(cv_scores_RF_int)\n",
    "optimal_params_RF_int = params_dict_RF_int[idx_optimal]\n",
    "print('-- Random Forest Regression w/ interaction terms --')\n",
    "print('Maximum R^2 validation score = {}'.format(max(cv_scores_RF_int)))\n",
    "print('Optimal n_estimators = {}'.format(optimal_params_RF_int[0]))\n",
    "print('Optimal max_features = {}'.format(optimal_params_RF_int[1]))\n",
    "\n",
    "# Fit the best RF\n",
    "RF_best_int = RandomForestRegressor(oob_score=False, n_estimators=optimal_params_RF_int[0], \n",
    "                                     max_features=optimal_params_RF_int[1], n_jobs=-1, \n",
    "                                     random_state=22).fit(X_train_int, y_train)\n",
    "RF_best_r2_train_int = RF_best_int.score(X_train_int, y_train)\n",
    "RF_best_r2_test_int = RF_best_int.score(X_test_int, y_test)\n",
    "print('-- Best Random Forest Regression w/ interaction terms --')\n",
    "print(\"Training R^2: {}\".format(RF_best_r2_train_int))\n",
    "print(\"Test R^2: {}\".format(RF_best_r2_test_int))\n",
    "\n",
    "# Dump fitted model to disk\n",
    "joblib.dump(RF_best_int, '../../fitted_models_extra/RF_best_int.pkl') "
   ]
  },
  {
   "cell_type": "markdown",
   "metadata": {},
   "source": [
    "Load fitted model to reproduce results directly"
   ]
  },
  {
   "cell_type": "code",
   "execution_count": 42,
   "metadata": {},
   "outputs": [
    {
     "name": "stdout",
     "output_type": "stream",
     "text": [
      "-- Best Random Forest Regression with main predictors and interaction terms --\n",
      "Training R^2: 0.9260684580091274\n",
      "Test R^2: 0.46526577792668766\n"
     ]
    }
   ],
   "source": [
    "# Load fitted model to reproduce results\n",
    "RF_best_int = joblib.load('../../fitted_models_extra/RF_best_int.pkl') \n",
    "RF_best_r2_train_int = RF_best_int.score(X_train_int, y_train)\n",
    "RF_best_r2_test_int = RF_best_int.score(X_test_int, y_test)\n",
    "print('-- Best Random Forest Regression with main predictors and interaction terms --')\n",
    "print(\"Training R^2: {}\".format(RF_best_r2_train_int))\n",
    "print(\"Test R^2: {}\".format(RF_best_r2_test_int))"
   ]
  },
  {
   "cell_type": "markdown",
   "metadata": {},
   "source": [
    "#### Adaboost"
   ]
  },
  {
   "cell_type": "code",
   "execution_count": 43,
   "metadata": {
    "collapsed": true
   },
   "outputs": [],
   "source": [
    "# Use 5-fold CV to choose max_depth & n_estimators in AdaBoost Regressor\n",
    "l_rate = 0.05\n",
    "params_dict_ab_int = {}\n",
    "cv_scores_ab_int = []\n",
    "for i, (d, n) in enumerate(product(*ab_params.values())):\n",
    "    params_dict_ab_int[i] = (d, n)\n",
    "    ab_main = AdaBoostRegressor(DecisionTreeRegressor(max_depth=d, random_state=22), n_estimators=n, \n",
    "                                learning_rate=l_rate, random_state=22)\n",
    "    scores = cross_val_score(ab_main, X_train_int, y_train, cv=5, scoring='r2')\n",
    "    cv_scores_ab_int.append(scores.mean())\n",
    "\n",
    "# Get the optimal set of parameters of the AdaBoost Regressor\n",
    "idx_optimal = np.argmax(cv_scores_ab_int)\n",
    "optimal_params_ab_int = params_dict_ab_int[idx_optimal]\n",
    "print('-- AdaBoost Regression w/ interaction terms --')\n",
    "print('Maximum R^2 validation score = {}'.format(max(cv_scores_ab_int)))\n",
    "print('Optimal base tree max_depth = {}'.format(optimal_params_ab_int[0]))\n",
    "print('Optimal n_estimators = {}'.format(optimal_params_ab_int[1]))\n",
    "\n",
    "# Fit the best Adaboost regressor\n",
    "ab_best_int = AdaBoostRegressor(DecisionTreeRegressor(max_depth=optimal_params_ab_int[0], random_state=22), \n",
    "                                 n_estimators=optimal_params_ab_int[1], learning_rate=l_rate, \n",
    "                                 random_state=22).fit(X_train_int, y_train)\n",
    "\n",
    "ab_best_r2_train_int = ab_best_int.score(X_train_int, y_train)\n",
    "ab_best_r2_test_int = ab_best_int.score(X_test_int, y_test)\n",
    "print('-- Best AdaBoost Regression w/ interaction terms --')\n",
    "print(\"Training R^2: {}\".format(ab_best_r2_train_int))\n",
    "print(\"Test R^2: {}\".format(ab_best_r2_test_int))\n",
    "\n",
    "# Dump fitted model to disk\n",
    "joblib.dump(ab_best_int, '../../fitted_models_extra/ab_best_int.pkl') "
   ]
  },
  {
   "cell_type": "markdown",
   "metadata": {},
   "source": [
    "Load fitted model to reproduce results directly"
   ]
  },
  {
   "cell_type": "code",
   "execution_count": 44,
   "metadata": {},
   "outputs": [
    {
     "name": "stdout",
     "output_type": "stream",
     "text": [
      "-- Best AdaBoost Regression with main predictors and interaction terms --\n",
      "Training R^2: 0.6447076537564405\n",
      "Test R^2: 0.4037085214338365\n"
     ]
    }
   ],
   "source": [
    "# Load fitted model to reproduce results\n",
    "ab_best_int = joblib.load('../../fitted_models_extra/ab_best_int.pkl') \n",
    "ab_best_r2_train_int = ab_best_int.score(X_train_int, y_train)\n",
    "ab_best_r2_test_int = ab_best_int.score(X_test_int, y_test)\n",
    "print('-- Best AdaBoost Regression with main predictors and interaction terms --')\n",
    "print(\"Training R^2: {}\".format(ab_best_r2_train_int))\n",
    "print(\"Test R^2: {}\".format(ab_best_r2_test_int))"
   ]
  },
  {
   "cell_type": "markdown",
   "metadata": {},
   "source": [
    "#### Meta Model: Weighted Avg"
   ]
  },
  {
   "cell_type": "code",
   "execution_count": 45,
   "metadata": {},
   "outputs": [
    {
     "name": "stdout",
     "output_type": "stream",
     "text": [
      "-- Meta model 1: Weighted Avg with main predictors and interaction terms --\n",
      "Valid (Meta Train) R^2: 0.4075419472481713\n",
      "Test R^2: 0.4079655803159107\n"
     ]
    }
   ],
   "source": [
    "prefix = '../../fitted_models_extra/'\n",
    "suffix = '.pkl'\n",
    "models_int = ['sim_lin_int', 'ridge_cv_int', 'lasso_cv_int', 'RF_best_int', 'ab_best_int']\n",
    "\n",
    "# Record model's r2 score and predicted results on validation set\n",
    "weights_int = np.zeros((len(models_int),))\n",
    "preds_int_valid = np.zeros((y_valid.shape[0], len(models_int)))\n",
    "preds_int_test = np.zeros((y_test.shape[0], len(models_int)))\n",
    "for i, name in enumerate(models_int):\n",
    "    model_name = prefix + name + suffix\n",
    "    model = joblib.load(model_name) \n",
    "    weights_int[i] = model.score(X_valid_int, y_valid)\n",
    "    preds_int_valid[:, i] = model.predict(X_valid_int)\n",
    "    preds_int_test[:, i] = model.predict(X_test_int)\n",
    "\n",
    "weights_int = weights_int/np.sum(weights_int)\n",
    "meta_pred_int_valid = np.average(preds_int_valid, axis=1, weights=weights_int)\n",
    "meta_pred_int_test = np.average(preds_int_test, axis=1, weights=weights_int)\n",
    "\n",
    "meta_r2_valid_int = r2_score(y_valid, meta_pred_int_valid)\n",
    "meta_r2_test_int = r2_score(y_test, meta_pred_int_test)\n",
    "print('-- Meta model 1: Weighted Avg with main predictors and interaction terms --')\n",
    "print(\"Valid (Meta Train) R^2: {}\".format(meta_r2_valid_int))\n",
    "print(\"Test R^2: {}\".format(meta_r2_test_int))"
   ]
  },
  {
   "cell_type": "markdown",
   "metadata": {},
   "source": [
    "#### Meta Model: Linear Regression"
   ]
  },
  {
   "cell_type": "code",
   "execution_count": 46,
   "metadata": {},
   "outputs": [
    {
     "name": "stdout",
     "output_type": "stream",
     "text": [
      "-- Meta model 2: Linear Regression Stacking with main predictors and interaction terms --\n",
      "Train R^2: 0.4858998651056701\n",
      "Test R^2: 0.483405689121045\n"
     ]
    }
   ],
   "source": [
    "# Record model's predicted results on validation set as the train set for the meta regressor\n",
    "meta_X_train_int = np.zeros((y_valid.shape[0], len(models_int)))\n",
    "meta_X_test_int = np.zeros((y_test.shape[0], len(models_int)))\n",
    "for i, name in enumerate(models_int):\n",
    "    model_name = prefix + name + suffix\n",
    "    model = joblib.load(model_name) \n",
    "    meta_X_train_int[:, i] = model.predict(X_valid_int)\n",
    "    meta_X_test_int[:, i] = model.predict(X_test_int)\n",
    "\n",
    "meta_reg_int = LinearRegression().fit(meta_X_train_int, y_valid)\n",
    "joblib.dump(meta_reg_int, '../../fitted_models_extra/meta_reg_int.pkl') # Dump fitted model to disk\n",
    "\n",
    "# Load fitted model to reproduce results\n",
    "meta_reg_int = joblib.load('../../fitted_models_extra/meta_reg_int.pkl') \n",
    "print('-- Meta model 2: Linear Regression Stacking with main predictors and interaction terms --')\n",
    "print(\"Train R^2: {}\".format(meta_reg_int.score(meta_X_train_int, y_valid)))\n",
    "print(\"Test R^2: {}\".format(meta_reg_int.score(meta_X_test_int, y_test)))"
   ]
  },
  {
   "cell_type": "markdown",
   "metadata": {
    "collapsed": true
   },
   "source": [
    "## Summary\n",
    "$R^2$ score on the new **test set** of all playlists with the extra field of `tracks_score`:\n",
    "\n",
    "|          Model          | Main Only | Main & Interaction |\n",
    "|-------------------------|-----------|--------------------|\n",
    "| Linear Regression       | 0.25624   | 0.24970            |\n",
    "| PCA                     | N/A       | (n=189) 0.20661    |\n",
    "| RidgeCV                 | 0.25464   | 0.25436            |\n",
    "| LassoCV                 | 0.25393   | 0.27189            |\n",
    "| Random Forest           | 0.47226   | 0.46527            |\n",
    "| Adaboost                | 0.41227   | 0.40371            |\n",
    "| Meta - Weighted Avg     | 0.40447   | 0.40797            |\n",
    "| Meta - Linear Regression| 0.48533   | 0.48341            |"
   ]
  },
  {
   "cell_type": "code",
   "execution_count": 47,
   "metadata": {},
   "outputs": [
    {
     "data": {
      "image/png": "[encoded data removed]",
      "text/plain": [
       "<matplotlib.figure.Figure at 0x1166d6588>"
      ]
     },
     "metadata": {},
     "output_type": "display_data"
    }
   ],
   "source": [
    "# Visualize the Test R^2 scores of all models\n",
    "model_names = ['Lin.Reg.', 'RidgeCV', 'LassoCV', 'RF', 'Adaboost', 'Meta 1\\nWeighted.Avg.', 'Meta 2\\nLin.Reg.']\n",
    "acc_test_main = [0.25624, 0.25464, 0.25393, 0.47226, 0.41227, 0.40447, 0.48533]\n",
    "acc_test_int = [0.24970, 0.25436, 0.27189, 0.46527, 0.40371, 0.40797, 0.48341]\n",
    "\n",
    "width = 0.3\n",
    "plt.figure(figsize=(12, 8))\n",
    "plt.bar(np.arange(len(model_names)), acc_test_main, width, alpha=0.8, label='Main')\n",
    "plt.bar(np.arange(len(model_names))+width, acc_test_int, width, alpha=0.8, label='Main & Interaction')\n",
    "plt.xticks(np.arange(len(model_names))+0.5*width, model_names, fontsize=14)\n",
    "plt.title('Test $R^2$ w/ Additional Data VS. Models ', fontsize=20)\n",
    "plt.ylabel('Test $R^2$', fontsize=16)\n",
    "plt.legend(fontsize=14)\n",
    "plt.show()"
   ]
  },
  {
   "cell_type": "code",
   "execution_count": null,
   "metadata": {
    "collapsed": true
   },
   "outputs": [],
   "source": []
  }
 ],
 "metadata": {
  "celltoolbar": "Edit Metadata",
  "kernelspec": {
   "display_name": "Python 3",
   "language": "python",
   "name": "python3"
  },
  "language_info": {
   "codemirror_mode": {
    "name": "ipython",
    "version": 3
   },
   "file_extension": ".py",
   "mimetype": "text/x-python",
   "name": "python",
   "nbconvert_exporter": "python",
   "pygments_lexer": "ipython3",
   "version": "3.6.1"
  }
 },
 "nbformat": 4,
 "nbformat_minor": 2
}
