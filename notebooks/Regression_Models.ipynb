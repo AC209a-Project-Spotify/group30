{
 "cells": [
  {
   "cell_type": "markdown",
   "metadata": {},
   "source": [
    "# Regression Models"
   ]
  },
  {
   "cell_type": "markdown",
   "metadata": {},
   "source": [
    "Here, we explore different regression models to predict the number of followers (log-scale) of each playlist. We use 2 sets of features and fitted 2 sets of regression models respectively.\n",
    "\n",
    "- Feature set 1: **main predictors only**\n",
    "- Feature set 2: **main predictors and interaction terms of (genre X numerical_audio_feature_avg)**\n",
    "\n",
    "For each set of features, do the following 2 steps:\n",
    "- Use main predictors only and fit **single** regression models:\n",
    "    - Linear Regression\n",
    "    - (Perform PCA on the main predictors and interaction terms set of features)\n",
    "    - RidgeCV\n",
    "    - LassoCV\n",
    "    - Random Forest Regressor\n",
    "    - Adaboost Regressor\n",
    "\n",
    "- **Stack** all fitted models on the training set together to fit a\n",
    "    - **Meta regressor 1: Weighted Average ** \n",
    "        - Gather the predicted values of all the fitted single models on the validation set\n",
    "        - Average each single model's predicted value weighted by its accuracy on the same validation set\n",
    "    \n",
    "    - **Meta regressor 2: Meta Linear Regressor ** \n",
    "        - Gather the predicted values of all the fitted single models on the validation set\n",
    "        - Fit a linear regression model on these single models' predicted values\n",
    "\n",
    "As shown in the **summary** part at the end of this notebook, **Random Forest Regressor is the best single model** and the stacked **Meta Linear Regression model is overall the best**. Comparing models with the 2 sets of features, both have overall comparable test accuracies. The interaction terms between genre and avg of numerical audio features slightly improved test accuracies for the **RidgeCV, LassoCV and weighted average meta model** but not for the other models. This suggests that some of the interaction terms are useful while others are not. Thus, the models fitted on main predictors and interaction terms are (to some extent) overfitted."
   ]
  },
  {
   "cell_type": "code",
   "execution_count": 1,
   "metadata": {
    "collapsed": true,
    "hide": true
   },
   "outputs": [],
   "source": [
    "# import libraries\n",
    "import json\n",
    "import numpy as np\n",
    "import pandas as pd\n",
    "import seaborn as sns\n",
    "import matplotlib.pyplot as plt\n",
    "import matplotlib\n",
    "from IPython.display import Image\n",
    "from IPython.display import display\n",
    "from sklearn.model_selection import train_test_split\n",
    "from sklearn.decomposition import PCA\n",
    "from sklearn.linear_model import LinearRegression\n",
    "from sklearn.linear_model import RidgeCV\n",
    "from sklearn.linear_model import LassoCV\n",
    "from sklearn.preprocessing import PolynomialFeatures\n",
    "from sklearn.ensemble import RandomForestRegressor\n",
    "from sklearn.ensemble import AdaBoostRegressor\n",
    "from sklearn.tree import DecisionTreeRegressor\n",
    "from sklearn.metrics import r2_score\n",
    "from sklearn.model_selection import cross_val_score\n",
    "from sklearn.model_selection import KFold\n",
    "from sklearn.externals import joblib\n",
    "from itertools import product\n",
    "from collections import OrderedDict\n",
    "from copy import deepcopy\n",
    "import warnings\n",
    "warnings.filterwarnings(\"ignore\")\n",
    "%matplotlib inline"
   ]
  },
  {
   "cell_type": "code",
   "execution_count": 2,
   "metadata": {
    "collapsed": true
   },
   "outputs": [],
   "source": [
    "# Save scraped data to json file\n",
    "def dump_data(data_to_json, file):\n",
    "    # example: file = '../data/playlists_5088.json'\n",
    "    with open(file,'w') as fd:\n",
    "        json.dump(data_to_json, fd)\n",
    "\n",
    "# Load json file\n",
    "def load_data(file):\n",
    "    with open(file, 'r') as fd:\n",
    "        data_from_json = json.load(fd)\n",
    "        return data_from_json"
   ]
  },
  {
   "cell_type": "markdown",
   "metadata": {},
   "source": [
    "## Regression models with main predictors only"
   ]
  },
  {
   "cell_type": "markdown",
   "metadata": {},
   "source": [
    "### Data Processing"
   ]
  },
  {
   "cell_type": "markdown",
   "metadata": {},
   "source": [
    "Take **log transform** of the skewed response variable:\n",
    "\n",
    "**`num_followers` -> `log_num_followers`**"
   ]
  },
  {
   "cell_type": "code",
   "execution_count": 3,
   "metadata": {},
   "outputs": [
    {
     "data": {
      "text/html": [
       "<div>\n",
       "<style>\n",
       "    .dataframe thead tr:only-child th {\n",
       "        text-align: right;\n",
       "    }\n",
       "\n",
       "    .dataframe thead th {\n",
       "        text-align: left;\n",
       "    }\n",
       "\n",
       "    .dataframe tbody tr th {\n",
       "        vertical-align: top;\n",
       "    }\n",
       "</style>\n",
       "<table border=\"1\" class=\"dataframe\">\n",
       "  <thead>\n",
       "    <tr style=\"text-align: right;\">\n",
       "      <th></th>\n",
       "      <th>collaborative</th>\n",
       "      <th>num_followers</th>\n",
       "      <th>num_tracks</th>\n",
       "      <th>track_acousticness_avg</th>\n",
       "      <th>track_acousticness_std</th>\n",
       "      <th>track_album_popularity_avg</th>\n",
       "      <th>track_album_popularity_max</th>\n",
       "      <th>track_album_popularity_std</th>\n",
       "      <th>track_artists_genres_unique</th>\n",
       "      <th>track_avg_artist_num_followers_avg</th>\n",
       "      <th>...</th>\n",
       "      <th>track_std_artist_num_followers_std</th>\n",
       "      <th>track_std_artist_popularity_avg</th>\n",
       "      <th>track_std_artist_popularity_std</th>\n",
       "      <th>track_tempo_avg</th>\n",
       "      <th>track_tempo_std</th>\n",
       "      <th>track_time_signature_mode</th>\n",
       "      <th>track_time_signature_unique</th>\n",
       "      <th>track_valence_avg</th>\n",
       "      <th>track_valence_std</th>\n",
       "      <th>genre</th>\n",
       "    </tr>\n",
       "  </thead>\n",
       "  <tbody>\n",
       "    <tr>\n",
       "      <th>0</th>\n",
       "      <td>False</td>\n",
       "      <td>3000606</td>\n",
       "      <td>52</td>\n",
       "      <td>0.180999</td>\n",
       "      <td>0.171120</td>\n",
       "      <td>71.673077</td>\n",
       "      <td>96</td>\n",
       "      <td>13.136445</td>\n",
       "      <td>60</td>\n",
       "      <td>1.276693e+06</td>\n",
       "      <td>...</td>\n",
       "      <td>9.211661e+05</td>\n",
       "      <td>1.784248</td>\n",
       "      <td>3.081549</td>\n",
       "      <td>116.689288</td>\n",
       "      <td>25.194937</td>\n",
       "      <td>4</td>\n",
       "      <td>1</td>\n",
       "      <td>0.456071</td>\n",
       "      <td>0.184214</td>\n",
       "      <td>pop</td>\n",
       "    </tr>\n",
       "    <tr>\n",
       "      <th>1</th>\n",
       "      <td>False</td>\n",
       "      <td>69037</td>\n",
       "      <td>75</td>\n",
       "      <td>0.144201</td>\n",
       "      <td>0.160799</td>\n",
       "      <td>68.440000</td>\n",
       "      <td>100</td>\n",
       "      <td>15.511063</td>\n",
       "      <td>70</td>\n",
       "      <td>3.791621e+06</td>\n",
       "      <td>...</td>\n",
       "      <td>1.539587e+06</td>\n",
       "      <td>2.114856</td>\n",
       "      <td>3.171820</td>\n",
       "      <td>114.453907</td>\n",
       "      <td>24.115022</td>\n",
       "      <td>4</td>\n",
       "      <td>2</td>\n",
       "      <td>0.555027</td>\n",
       "      <td>0.191440</td>\n",
       "      <td>pop</td>\n",
       "    </tr>\n",
       "    <tr>\n",
       "      <th>2</th>\n",
       "      <td>False</td>\n",
       "      <td>385875</td>\n",
       "      <td>38</td>\n",
       "      <td>0.116600</td>\n",
       "      <td>0.117615</td>\n",
       "      <td>72.421053</td>\n",
       "      <td>94</td>\n",
       "      <td>16.192317</td>\n",
       "      <td>44</td>\n",
       "      <td>2.319518e+06</td>\n",
       "      <td>...</td>\n",
       "      <td>2.050419e+06</td>\n",
       "      <td>2.126763</td>\n",
       "      <td>2.151793</td>\n",
       "      <td>115.812500</td>\n",
       "      <td>22.759341</td>\n",
       "      <td>4</td>\n",
       "      <td>1</td>\n",
       "      <td>0.526526</td>\n",
       "      <td>0.201783</td>\n",
       "      <td>pop</td>\n",
       "    </tr>\n",
       "    <tr>\n",
       "      <th>3</th>\n",
       "      <td>False</td>\n",
       "      <td>69344</td>\n",
       "      <td>40</td>\n",
       "      <td>0.134162</td>\n",
       "      <td>0.247197</td>\n",
       "      <td>57.025000</td>\n",
       "      <td>82</td>\n",
       "      <td>18.083815</td>\n",
       "      <td>97</td>\n",
       "      <td>2.387520e+06</td>\n",
       "      <td>...</td>\n",
       "      <td>3.080303e+05</td>\n",
       "      <td>0.037500</td>\n",
       "      <td>0.172753</td>\n",
       "      <td>126.490950</td>\n",
       "      <td>29.521523</td>\n",
       "      <td>4</td>\n",
       "      <td>2</td>\n",
       "      <td>0.501825</td>\n",
       "      <td>0.188804</td>\n",
       "      <td>pop</td>\n",
       "    </tr>\n",
       "    <tr>\n",
       "      <th>4</th>\n",
       "      <td>False</td>\n",
       "      <td>15612</td>\n",
       "      <td>26</td>\n",
       "      <td>0.171635</td>\n",
       "      <td>0.229736</td>\n",
       "      <td>53.461538</td>\n",
       "      <td>54</td>\n",
       "      <td>0.498519</td>\n",
       "      <td>5</td>\n",
       "      <td>8.566853e+04</td>\n",
       "      <td>...</td>\n",
       "      <td>1.278704e+04</td>\n",
       "      <td>3.346290</td>\n",
       "      <td>3.184129</td>\n",
       "      <td>126.677692</td>\n",
       "      <td>33.241999</td>\n",
       "      <td>4</td>\n",
       "      <td>1</td>\n",
       "      <td>0.658846</td>\n",
       "      <td>0.184523</td>\n",
       "      <td>pop</td>\n",
       "    </tr>\n",
       "  </tbody>\n",
       "</table>\n",
       "<p>5 rows × 50 columns</p>\n",
       "</div>"
      ],
      "text/plain": [
       "   collaborative  num_followers  num_tracks  track_acousticness_avg  \\\n",
       "0          False        3000606          52                0.180999   \n",
       "1          False          69037          75                0.144201   \n",
       "2          False         385875          38                0.116600   \n",
       "3          False          69344          40                0.134162   \n",
       "4          False          15612          26                0.171635   \n",
       "\n",
       "   track_acousticness_std  track_album_popularity_avg  \\\n",
       "0                0.171120                   71.673077   \n",
       "1                0.160799                   68.440000   \n",
       "2                0.117615                   72.421053   \n",
       "3                0.247197                   57.025000   \n",
       "4                0.229736                   53.461538   \n",
       "\n",
       "   track_album_popularity_max  track_album_popularity_std  \\\n",
       "0                          96                   13.136445   \n",
       "1                         100                   15.511063   \n",
       "2                          94                   16.192317   \n",
       "3                          82                   18.083815   \n",
       "4                          54                    0.498519   \n",
       "\n",
       "   track_artists_genres_unique  track_avg_artist_num_followers_avg  ...    \\\n",
       "0                           60                        1.276693e+06  ...     \n",
       "1                           70                        3.791621e+06  ...     \n",
       "2                           44                        2.319518e+06  ...     \n",
       "3                           97                        2.387520e+06  ...     \n",
       "4                            5                        8.566853e+04  ...     \n",
       "\n",
       "   track_std_artist_num_followers_std  track_std_artist_popularity_avg  \\\n",
       "0                        9.211661e+05                         1.784248   \n",
       "1                        1.539587e+06                         2.114856   \n",
       "2                        2.050419e+06                         2.126763   \n",
       "3                        3.080303e+05                         0.037500   \n",
       "4                        1.278704e+04                         3.346290   \n",
       "\n",
       "   track_std_artist_popularity_std  track_tempo_avg  track_tempo_std  \\\n",
       "0                         3.081549       116.689288        25.194937   \n",
       "1                         3.171820       114.453907        24.115022   \n",
       "2                         2.151793       115.812500        22.759341   \n",
       "3                         0.172753       126.490950        29.521523   \n",
       "4                         3.184129       126.677692        33.241999   \n",
       "\n",
       "   track_time_signature_mode  track_time_signature_unique  track_valence_avg  \\\n",
       "0                          4                            1           0.456071   \n",
       "1                          4                            2           0.555027   \n",
       "2                          4                            1           0.526526   \n",
       "3                          4                            2           0.501825   \n",
       "4                          4                            1           0.658846   \n",
       "\n",
       "   track_valence_std  genre  \n",
       "0           0.184214    pop  \n",
       "1           0.191440    pop  \n",
       "2           0.201783    pop  \n",
       "3           0.188804    pop  \n",
       "4           0.184523    pop  \n",
       "\n",
       "[5 rows x 50 columns]"
      ]
     },
     "execution_count": 3,
     "metadata": {},
     "output_type": "execute_result"
    }
   ],
   "source": [
    "# Read dataframe\n",
    "playlists_df_full = pd.read_csv('../../data/playlists.csv')\n",
    "playlists_df_full.head()"
   ]
  },
  {
   "cell_type": "code",
   "execution_count": 4,
   "metadata": {
    "collapsed": true
   },
   "outputs": [],
   "source": [
    "# Log transformation\n",
    "playlists_df_full['log_num_followers'] = np.log(list(playlists_df_full['num_followers']+1))\n",
    "\n",
    "# Dropping the original num_followers, num_tracks\n",
    "playlists_df_full.drop(['num_followers'], axis=1, inplace=True)"
   ]
  },
  {
   "cell_type": "markdown",
   "metadata": {},
   "source": [
    "Take **one-hot** encoding of the categorical variables"
   ]
  },
  {
   "cell_type": "code",
   "execution_count": 5,
   "metadata": {
    "collapsed": true
   },
   "outputs": [],
   "source": [
    "# Drop the useless varaible 'collaborative'\n",
    "playlists_df_full.drop(['collaborative'], axis=1, inplace=True)\n",
    "categorical_predictors = ['genre', 'track_time_signature_mode', 'track_key_mode']\n",
    "numerical_predictors = list(set(playlists_df_full.columns.values) - set(categorical_predictors))\n",
    "\n",
    "# One-hot encode categorical features\n",
    "playlists_df_full = pd.get_dummies(playlists_df_full, prefix = categorical_predictors, \n",
    "                                         columns = categorical_predictors, drop_first = True)"
   ]
  },
  {
   "cell_type": "code",
   "execution_count": 6,
   "metadata": {},
   "outputs": [
    {
     "data": {
      "text/html": [
       "<div>\n",
       "<style>\n",
       "    .dataframe thead tr:only-child th {\n",
       "        text-align: right;\n",
       "    }\n",
       "\n",
       "    .dataframe thead th {\n",
       "        text-align: left;\n",
       "    }\n",
       "\n",
       "    .dataframe tbody tr th {\n",
       "        vertical-align: top;\n",
       "    }\n",
       "</style>\n",
       "<table border=\"1\" class=\"dataframe\">\n",
       "  <thead>\n",
       "    <tr style=\"text-align: right;\">\n",
       "      <th></th>\n",
       "      <th>num_tracks</th>\n",
       "      <th>track_acousticness_avg</th>\n",
       "      <th>track_acousticness_std</th>\n",
       "      <th>track_album_popularity_avg</th>\n",
       "      <th>track_album_popularity_max</th>\n",
       "      <th>track_album_popularity_std</th>\n",
       "      <th>track_artists_genres_unique</th>\n",
       "      <th>track_avg_artist_num_followers_avg</th>\n",
       "      <th>track_avg_artist_num_followers_std</th>\n",
       "      <th>track_avg_artist_popularity_avg</th>\n",
       "      <th>...</th>\n",
       "      <th>track_key_mode_3</th>\n",
       "      <th>track_key_mode_4</th>\n",
       "      <th>track_key_mode_5</th>\n",
       "      <th>track_key_mode_6</th>\n",
       "      <th>track_key_mode_7</th>\n",
       "      <th>track_key_mode_8</th>\n",
       "      <th>track_key_mode_9</th>\n",
       "      <th>track_key_mode_10</th>\n",
       "      <th>track_key_mode_11</th>\n",
       "      <th>log_num_followers</th>\n",
       "    </tr>\n",
       "  </thead>\n",
       "  <tbody>\n",
       "    <tr>\n",
       "      <th>0</th>\n",
       "      <td>52</td>\n",
       "      <td>0.180999</td>\n",
       "      <td>0.171120</td>\n",
       "      <td>71.673077</td>\n",
       "      <td>96</td>\n",
       "      <td>13.136445</td>\n",
       "      <td>60</td>\n",
       "      <td>1.276693e+06</td>\n",
       "      <td>1.320843e+06</td>\n",
       "      <td>82.256410</td>\n",
       "      <td>...</td>\n",
       "      <td>0</td>\n",
       "      <td>0</td>\n",
       "      <td>0</td>\n",
       "      <td>0</td>\n",
       "      <td>0</td>\n",
       "      <td>0</td>\n",
       "      <td>0</td>\n",
       "      <td>0</td>\n",
       "      <td>1</td>\n",
       "      <td>14.914325</td>\n",
       "    </tr>\n",
       "    <tr>\n",
       "      <th>1</th>\n",
       "      <td>75</td>\n",
       "      <td>0.144201</td>\n",
       "      <td>0.160799</td>\n",
       "      <td>68.440000</td>\n",
       "      <td>100</td>\n",
       "      <td>15.511063</td>\n",
       "      <td>70</td>\n",
       "      <td>3.791621e+06</td>\n",
       "      <td>3.658858e+06</td>\n",
       "      <td>84.684000</td>\n",
       "      <td>...</td>\n",
       "      <td>0</td>\n",
       "      <td>0</td>\n",
       "      <td>0</td>\n",
       "      <td>0</td>\n",
       "      <td>0</td>\n",
       "      <td>0</td>\n",
       "      <td>0</td>\n",
       "      <td>0</td>\n",
       "      <td>0</td>\n",
       "      <td>11.142412</td>\n",
       "    </tr>\n",
       "    <tr>\n",
       "      <th>2</th>\n",
       "      <td>38</td>\n",
       "      <td>0.116600</td>\n",
       "      <td>0.117615</td>\n",
       "      <td>72.421053</td>\n",
       "      <td>94</td>\n",
       "      <td>16.192317</td>\n",
       "      <td>44</td>\n",
       "      <td>2.319518e+06</td>\n",
       "      <td>2.237652e+06</td>\n",
       "      <td>86.705263</td>\n",
       "      <td>...</td>\n",
       "      <td>0</td>\n",
       "      <td>0</td>\n",
       "      <td>0</td>\n",
       "      <td>0</td>\n",
       "      <td>0</td>\n",
       "      <td>0</td>\n",
       "      <td>0</td>\n",
       "      <td>0</td>\n",
       "      <td>1</td>\n",
       "      <td>12.863271</td>\n",
       "    </tr>\n",
       "    <tr>\n",
       "      <th>3</th>\n",
       "      <td>40</td>\n",
       "      <td>0.134162</td>\n",
       "      <td>0.247197</td>\n",
       "      <td>57.025000</td>\n",
       "      <td>82</td>\n",
       "      <td>18.083815</td>\n",
       "      <td>97</td>\n",
       "      <td>2.387520e+06</td>\n",
       "      <td>3.589807e+06</td>\n",
       "      <td>72.987500</td>\n",
       "      <td>...</td>\n",
       "      <td>0</td>\n",
       "      <td>0</td>\n",
       "      <td>0</td>\n",
       "      <td>1</td>\n",
       "      <td>0</td>\n",
       "      <td>0</td>\n",
       "      <td>0</td>\n",
       "      <td>0</td>\n",
       "      <td>0</td>\n",
       "      <td>11.146849</td>\n",
       "    </tr>\n",
       "    <tr>\n",
       "      <th>4</th>\n",
       "      <td>26</td>\n",
       "      <td>0.171635</td>\n",
       "      <td>0.229736</td>\n",
       "      <td>53.461538</td>\n",
       "      <td>54</td>\n",
       "      <td>0.498519</td>\n",
       "      <td>5</td>\n",
       "      <td>8.566853e+04</td>\n",
       "      <td>2.347853e+05</td>\n",
       "      <td>55.059341</td>\n",
       "      <td>...</td>\n",
       "      <td>0</td>\n",
       "      <td>0</td>\n",
       "      <td>0</td>\n",
       "      <td>0</td>\n",
       "      <td>0</td>\n",
       "      <td>0</td>\n",
       "      <td>1</td>\n",
       "      <td>0</td>\n",
       "      <td>0</td>\n",
       "      <td>9.655859</td>\n",
       "    </tr>\n",
       "  </tbody>\n",
       "</table>\n",
       "<p>5 rows × 86 columns</p>\n",
       "</div>"
      ],
      "text/plain": [
       "   num_tracks  track_acousticness_avg  track_acousticness_std  \\\n",
       "0          52                0.180999                0.171120   \n",
       "1          75                0.144201                0.160799   \n",
       "2          38                0.116600                0.117615   \n",
       "3          40                0.134162                0.247197   \n",
       "4          26                0.171635                0.229736   \n",
       "\n",
       "   track_album_popularity_avg  track_album_popularity_max  \\\n",
       "0                   71.673077                          96   \n",
       "1                   68.440000                         100   \n",
       "2                   72.421053                          94   \n",
       "3                   57.025000                          82   \n",
       "4                   53.461538                          54   \n",
       "\n",
       "   track_album_popularity_std  track_artists_genres_unique  \\\n",
       "0                   13.136445                           60   \n",
       "1                   15.511063                           70   \n",
       "2                   16.192317                           44   \n",
       "3                   18.083815                           97   \n",
       "4                    0.498519                            5   \n",
       "\n",
       "   track_avg_artist_num_followers_avg  track_avg_artist_num_followers_std  \\\n",
       "0                        1.276693e+06                        1.320843e+06   \n",
       "1                        3.791621e+06                        3.658858e+06   \n",
       "2                        2.319518e+06                        2.237652e+06   \n",
       "3                        2.387520e+06                        3.589807e+06   \n",
       "4                        8.566853e+04                        2.347853e+05   \n",
       "\n",
       "   track_avg_artist_popularity_avg        ...          track_key_mode_3  \\\n",
       "0                        82.256410        ...                         0   \n",
       "1                        84.684000        ...                         0   \n",
       "2                        86.705263        ...                         0   \n",
       "3                        72.987500        ...                         0   \n",
       "4                        55.059341        ...                         0   \n",
       "\n",
       "   track_key_mode_4  track_key_mode_5  track_key_mode_6  track_key_mode_7  \\\n",
       "0                 0                 0                 0                 0   \n",
       "1                 0                 0                 0                 0   \n",
       "2                 0                 0                 0                 0   \n",
       "3                 0                 0                 1                 0   \n",
       "4                 0                 0                 0                 0   \n",
       "\n",
       "   track_key_mode_8  track_key_mode_9  track_key_mode_10  track_key_mode_11  \\\n",
       "0                 0                 0                  0                  1   \n",
       "1                 0                 0                  0                  0   \n",
       "2                 0                 0                  0                  1   \n",
       "3                 0                 0                  0                  0   \n",
       "4                 0                 1                  0                  0   \n",
       "\n",
       "   log_num_followers  \n",
       "0          14.914325  \n",
       "1          11.142412  \n",
       "2          12.863271  \n",
       "3          11.146849  \n",
       "4           9.655859  \n",
       "\n",
       "[5 rows x 86 columns]"
      ]
     },
     "execution_count": 6,
     "metadata": {},
     "output_type": "execute_result"
    }
   ],
   "source": [
    "def change_column_order(df, col_name, index): \n",
    "    \"\"\"\n",
    "    Function to change column order in a dataframe\n",
    "    \"\"\"\n",
    "    cols = df.columns.tolist() \n",
    "    cols.remove(col_name)\n",
    "    cols.insert(index, col_name)\n",
    "    return df[cols]\n",
    "\n",
    "# Reorder so that the response variable is the last column\n",
    "playlists_df_full = change_column_order(playlists_df_full, 'log_num_followers', len(playlists_df_full.columns))\n",
    "\n",
    "playlists_df_full.head()"
   ]
  },
  {
   "cell_type": "code",
   "execution_count": 7,
   "metadata": {},
   "outputs": [
    {
     "name": "stdout",
     "output_type": "stream",
     "text": [
      "Is there any missing values in our data: False\n"
     ]
    }
   ],
   "source": [
    "print('Is there any missing values in our data: {}'.format(playlists_df_full.isnull().values.any()))"
   ]
  },
  {
   "cell_type": "markdown",
   "metadata": {},
   "source": [
    "Split data **6:1:1**\n",
    "1. **train set** for single models: 6/8 of all data\n",
    "2. **validation set** for single models & **train set for meta models**: 1/8 of all data\n",
    "3. **test set**: 1/8 of all data"
   ]
  },
  {
   "cell_type": "code",
   "execution_count": 8,
   "metadata": {
    "collapsed": true
   },
   "outputs": [],
   "source": [
    "np.random.seed(9001)\n",
    "msk1 = np.random.rand(len(playlists_df_full)) < 0.75\n",
    "playlists_df_train_main = playlists_df_full[msk1]\n",
    "playlists_df_nontrain_main = playlists_df_full[~msk1]\n",
    "\n",
    "msk12 = np.random.rand(len(playlists_df_nontrain_main)) < 0.5\n",
    "playlists_df_valid_main = playlists_df_nontrain_main[msk12]\n",
    "playlists_df_test_main = playlists_df_nontrain_main[~msk12]"
   ]
  },
  {
   "cell_type": "code",
   "execution_count": 9,
   "metadata": {},
   "outputs": [
    {
     "data": {
      "text/plain": [
       "((7083, 85), (7083,), (1214, 85), (1214,), (1133, 85), (1133,))"
      ]
     },
     "execution_count": 9,
     "metadata": {},
     "output_type": "execute_result"
    }
   ],
   "source": [
    "# Build predictors & response\n",
    "X_train_main = playlists_df_train_main.iloc[:,:-1]\n",
    "X_valid_main = playlists_df_valid_main.iloc[:,:-1]\n",
    "X_test_main = playlists_df_test_main.iloc[:,:-1]\n",
    "\n",
    "y_train = playlists_df_train_main['log_num_followers']\n",
    "y_valid = playlists_df_valid_main['log_num_followers']\n",
    "y_test = playlists_df_test_main['log_num_followers']\n",
    "\n",
    "X_train_main.shape, y_train.shape, X_valid_main.shape, y_valid.shape, X_test_main.shape, y_test.shape"
   ]
  },
  {
   "cell_type": "markdown",
   "metadata": {},
   "source": [
    "Drop columns that have only 0, and **standardize** numerical variables using **train set's mean and std**"
   ]
  },
  {
   "cell_type": "code",
   "execution_count": 10,
   "metadata": {
    "collapsed": true
   },
   "outputs": [],
   "source": [
    "for col in X_train_main.columns:\n",
    "    if (X_train_main[col] == 0).all():\n",
    "        X_train_main.drop(col, axis=1, inplace=True)\n",
    "    else:\n",
    "        # Standardize a numerical variable\n",
    "        if not np.logical_or((X_train_main[col]==0), ((X_train_main[col]==1))).all():\n",
    "            mean_train = X_train_main[col].mean()\n",
    "            std_train = X_train_main[col].std()\n",
    "            X_train_main[col] = (X_train_main[col] - mean_train) / std_train\n",
    "            X_valid_main[col] = (X_valid_main[col] - mean_train) / std_train\n",
    "            X_test_main[col] = (X_test_main[col] - mean_train) / std_train\n"
   ]
  },
  {
   "cell_type": "markdown",
   "metadata": {},
   "source": [
    "### Regression Models"
   ]
  },
  {
   "cell_type": "markdown",
   "metadata": {},
   "source": [
    "#### Linear regression"
   ]
  },
  {
   "cell_type": "code",
   "execution_count": 11,
   "metadata": {
    "collapsed": true
   },
   "outputs": [],
   "source": [
    "# Fit & Save model\n",
    "sim_lin_main = LinearRegression().fit(X_train_main, y_train)\n",
    "joblib.dump(sim_lin_main, '../../fitted_models/sim_lin_main.pkl') "
   ]
  },
  {
   "cell_type": "code",
   "execution_count": 12,
   "metadata": {},
   "outputs": [
    {
     "name": "stdout",
     "output_type": "stream",
     "text": [
      "-- Linear Regression with all main predictors only --\n",
      "Training R^2:  0.263847739771\n",
      "Test R^2:  0.252153441084\n"
     ]
    }
   ],
   "source": [
    "# Load fitted model to reproduce results\n",
    "sim_lin_main = joblib.load('../../fitted_models/sim_lin_main.pkl') \n",
    "print('-- Linear Regression with all main predictors only --')\n",
    "print('Training R^2: ', sim_lin_main.score(X_train_main, y_train))\n",
    "print('Test R^2: ', sim_lin_main.score(X_test_main, y_test))"
   ]
  },
  {
   "cell_type": "markdown",
   "metadata": {},
   "source": [
    "#### RidgeCV"
   ]
  },
  {
   "cell_type": "code",
   "execution_count": 13,
   "metadata": {
    "collapsed": true
   },
   "outputs": [],
   "source": [
    "lambdas = [1e-5, 1e-4, 1e-3, 1e-2, 1e-1, 1e0, 1e1, 1e2, 1e3, 1e4, 1e5]\n",
    "ridge_cv_main = RidgeCV(alphas=lambdas, fit_intercept=True).fit(X_train_main, y_train)\n",
    "joblib.dump(ridge_cv_main, '../../fitted_models/ridge_cv_main.pkl') "
   ]
  },
  {
   "cell_type": "code",
   "execution_count": 14,
   "metadata": {},
   "outputs": [
    {
     "name": "stdout",
     "output_type": "stream",
     "text": [
      "-- RidgeCV (best alpha = 10.0) with all main predictors only --\n",
      "Training R^2: 0.263451109837063\n",
      "Test R^2: 0.25052396982949465\n"
     ]
    }
   ],
   "source": [
    "# Load fitted model\n",
    "ridge_cv_main = joblib.load('../../fitted_models/ridge_cv_main.pkl') \n",
    "ridge_r2_train_main = ridge_cv_main.score(X_train_main, y_train)\n",
    "ridge_r2_test_main = ridge_cv_main.score(X_test_main, y_test)\n",
    "\n",
    "print('-- RidgeCV (best alpha = {}) with all main predictors only --'.format(ridge_cv_main.alpha_))\n",
    "print(\"Training R^2: {}\".format(ridge_r2_train_main))\n",
    "print(\"Test R^2: {}\".format(ridge_r2_test_main))"
   ]
  },
  {
   "cell_type": "markdown",
   "metadata": {},
   "source": [
    "#### LassoCV"
   ]
  },
  {
   "cell_type": "code",
   "execution_count": 15,
   "metadata": {
    "collapsed": true
   },
   "outputs": [],
   "source": [
    "lambdas = [1e-5, 1e-4, 1e-3, 1e-2, 1e-1, 1e0, 1e1, 1e2, 1e3, 1e4, 1e5]\n",
    "lasso_cv_main = LassoCV(alphas=lambdas, fit_intercept=True).fit(X_train_main, y_train)\n",
    "joblib.dump(lasso_cv_main, '../../fitted_models/lasso_cv_main.pkl') "
   ]
  },
  {
   "cell_type": "code",
   "execution_count": 16,
   "metadata": {},
   "outputs": [
    {
     "name": "stdout",
     "output_type": "stream",
     "text": [
      "-- LassoCV (best alpha = 0.01) with all main predictors only --\n",
      "Training R^2: 0.2556596987903933\n",
      "Test R^2: 0.24914685865189712\n"
     ]
    }
   ],
   "source": [
    "# Load fitted model\n",
    "lasso_cv_main = joblib.load('../../fitted_models/lasso_cv_main.pkl') \n",
    "lasso_r2_train_main = lasso_cv_main.score(X_train_main, y_train)\n",
    "lasso_r2_test_main = lasso_cv_main.score(X_test_main, y_test)\n",
    "\n",
    "print('-- LassoCV (best alpha = {}) with all main predictors only --'.format(lasso_cv_main.alpha_))\n",
    "print(\"Training R^2: {}\".format(lasso_r2_train_main))\n",
    "print(\"Test R^2: {}\".format(lasso_r2_test_main))"
   ]
  },
  {
   "cell_type": "markdown",
   "metadata": {},
   "source": [
    "#### Random Forest"
   ]
  },
  {
   "cell_type": "code",
   "execution_count": 17,
   "metadata": {},
   "outputs": [
    {
     "data": {
      "text/plain": [
       "odict_values([[4, 8, 16, 32, 64, 128, 256], [0.1, 0.3, 0.5, 0.7, 0.9]])"
      ]
     },
     "execution_count": 17,
     "metadata": {},
     "output_type": "execute_result"
    }
   ],
   "source": [
    "RF_params = OrderedDict(\n",
    "    n_estimators = [2**(i+2) for i in np.arange(7)],\n",
    "    max_features = [0.1, 0.3, 0.5, 0.7, 0.9]\n",
    ")\n",
    "RF_params.values()"
   ]
  },
  {
   "cell_type": "code",
   "execution_count": 18,
   "metadata": {
    "collapsed": true
   },
   "outputs": [],
   "source": [
    "# Use 5-fold validation to find the optimal n_estimators and max_features for Random Forest Regression\n",
    "cv_scores_RF_main = []\n",
    "params_dict_RF_main = {}\n",
    "\n",
    "for i, (n, f) in enumerate(product(*RF_params.values())):\n",
    "    params_dict_RF_main[i] = (n, f)\n",
    "    \n",
    "    # Cross Validation on Random Forest Classifier\n",
    "    RF_main = RandomForestRegressor(oob_score=False, n_estimators=n, max_features=f, n_jobs=-1, random_state=22)\n",
    "    scores = cross_val_score(RF_main, X_train_main, y_train, cv=5, scoring='r2')\n",
    "    cv_scores_RF_main.append(scores.mean())\n",
    "\n",
    "# Get the optimal set of parameters of the Random Forest Regressor\n",
    "idx_optimal = np.argmax(cv_scores_RF_main)\n",
    "optimal_params_RF_main = params_dict_RF_main[idx_optimal]\n",
    "print('-- Random Forest Regression --')\n",
    "print('Maximum R^2 validation score = {}'.format(max(cv_scores_RF_main)))\n",
    "print('Optimal n_estimators = {}'.format(optimal_params_RF_main[0]))\n",
    "print('Optimal max_features = {}'.format(optimal_params_RF_main[1]))\n",
    "\n",
    "# Fit the optimal RF\n",
    "RF_best_main = RandomForestRegressor(oob_score=False, n_estimators=optimal_params_RF_main[0], \n",
    "                                     max_features=optimal_params_RF_main[1], n_jobs=-1, \n",
    "                                     random_state=22).fit(X_train_main, y_train)\n",
    "RF_best_r2_train_main = RF_best_main.score(X_train_main, y_train)\n",
    "RF_best_r2_test_main = RF_best_main.score(X_test_main, y_test)\n",
    "print('-- Best Random Forest Regression --')\n",
    "print(\"Training R^2: {}\".format(RF_best_r2_train_main))\n",
    "print(\"Test R^2: {}\".format(RF_best_r2_test_main))\n",
    "\n",
    "# Dump fitted model to disk\n",
    "joblib.dump(RF_best_main, '../../fitted_models/RF_best_main.pkl') "
   ]
  },
  {
   "cell_type": "markdown",
   "metadata": {},
   "source": [
    "Load fitted model to reproduce results directly"
   ]
  },
  {
   "cell_type": "code",
   "execution_count": 19,
   "metadata": {},
   "outputs": [
    {
     "name": "stdout",
     "output_type": "stream",
     "text": [
      "-- Best Random Forest Regression with all main predictors only --\n",
      "Training R^2: 0.9263072080770891\n",
      "Test R^2: 0.48156931235472966\n"
     ]
    }
   ],
   "source": [
    "# Load fitted model to reproduce results\n",
    "RF_best_main = joblib.load('../../fitted_models/RF_best_main.pkl') \n",
    "RF_best_r2_train_main = RF_best_main.score(X_train_main, y_train)\n",
    "RF_best_r2_test_main = RF_best_main.score(X_test_main, y_test)\n",
    "print('-- Best Random Forest Regression with all main predictors only --')\n",
    "print(\"Training R^2: {}\".format(RF_best_r2_train_main))\n",
    "print(\"Test R^2: {}\".format(RF_best_r2_test_main))"
   ]
  },
  {
   "cell_type": "markdown",
   "metadata": {},
   "source": [
    "#### Adaboost "
   ]
  },
  {
   "cell_type": "code",
   "execution_count": 20,
   "metadata": {},
   "outputs": [
    {
     "data": {
      "text/plain": [
       "odict_values([[2, 4, 6, 8], [4, 8, 16, 32, 64, 128, 256]])"
      ]
     },
     "execution_count": 20,
     "metadata": {},
     "output_type": "execute_result"
    }
   ],
   "source": [
    "ab_params = OrderedDict(\n",
    "    base_depths = [2, 4, 6, 8],\n",
    "    n_estimators = [2**(i+2) for i in np.arange(7)]\n",
    ")\n",
    "ab_params.values()"
   ]
  },
  {
   "cell_type": "code",
   "execution_count": 21,
   "metadata": {
    "collapsed": true
   },
   "outputs": [],
   "source": [
    "# Use 5-fold CV to choose max_depth & n_estimators in AdaBoost Regressor\n",
    "l_rate = 0.05\n",
    "params_dict_ab_main = {}\n",
    "cv_scores_ab_main = []\n",
    "for i, (d, n) in enumerate(product(*ab_params.values())):\n",
    "    params_dict_ab_main[i] = (d, n)\n",
    "    ab_main = AdaBoostRegressor(DecisionTreeRegressor(max_depth=d, random_state=22), n_estimators=n, \n",
    "                                learning_rate=l_rate, random_state=22)\n",
    "    scores = cross_val_score(ab_main, X_train_main, y_train, cv=5, scoring='r2')\n",
    "    cv_scores_ab_main.append(scores.mean())\n",
    "\n",
    "\n",
    "# Get the optimal set of parameters of the Random Forest Regressor\n",
    "idx_optimal = np.argmax(cv_scores_ab_main)\n",
    "optimal_params_ab_main = params_dict_ab_main[idx_optimal]\n",
    "print('-- AdaBoost Regression --')\n",
    "print('Maximum R^2 cv score = {}'.format(max(cv_scores_ab_main)))\n",
    "print('Optimal base tree max_depth = {}'.format(optimal_params_ab_main[0]))\n",
    "print('Optimal n_estimators = {}'.format(optimal_params_ab_main[1]))\n",
    "\n",
    "\n",
    "# Fit the best Adaboost Regressor\n",
    "ab_best_main = AdaBoostRegressor(DecisionTreeRegressor(max_depth=optimal_params_ab_main[0], random_state=22), \n",
    "                                 n_estimators=optimal_params_ab_main[1], learning_rate=l_rate, \n",
    "                                 random_state=22).fit(X_train_main, y_train)\n",
    "ab_best_r2_train_main = ab_best_main.score(X_train_main, y_train)\n",
    "ab_best_r2_test_main = ab_best_main.score(X_test_main, y_test)\n",
    "print('-- Best AdaBoost Regression --')\n",
    "print(\"Training R^2: {}\".format(ab_best_r2_train_main))\n",
    "print(\"Test R^2: {}\".format(ab_best_r2_test_main))\n",
    "\n",
    "# Dump fitted model to disk\n",
    "joblib.dump(ab_best_main, '../../fitted_models/ab_best_main.pkl') "
   ]
  },
  {
   "cell_type": "markdown",
   "metadata": {},
   "source": [
    "Load fitted model to reproduce results directly"
   ]
  },
  {
   "cell_type": "code",
   "execution_count": 22,
   "metadata": {},
   "outputs": [
    {
     "name": "stdout",
     "output_type": "stream",
     "text": [
      "-- Best AdaBoost Regression --\n",
      "Training R^2: 0.6574644836867659\n",
      "Test R^2: 0.4194601631510584\n"
     ]
    }
   ],
   "source": [
    "# Load fitted model to reproduce results\n",
    "ab_best_main = joblib.load('../../fitted_models/ab_best_main.pkl') \n",
    "ab_best_r2_train_main = ab_best_main.score(X_train_main, y_train)\n",
    "ab_best_r2_test_main = ab_best_main.score(X_test_main, y_test)\n",
    "print('-- Best AdaBoost Regression --')\n",
    "print(\"Training R^2: {}\".format(ab_best_r2_train_main))\n",
    "print(\"Test R^2: {}\".format(ab_best_r2_test_main))"
   ]
  },
  {
   "cell_type": "markdown",
   "metadata": {},
   "source": [
    "#### Meta Model: Weighted Avg"
   ]
  },
  {
   "cell_type": "code",
   "execution_count": 23,
   "metadata": {},
   "outputs": [
    {
     "name": "stdout",
     "output_type": "stream",
     "text": [
      "-- Meta model 1: Weighted Avg with main predictors only --\n",
      "Valid R^2: 0.4051594155555923\n",
      "Test R^2: 0.41065615616702467\n"
     ]
    }
   ],
   "source": [
    "prefix = '../../fitted_models/'\n",
    "suffix = '.pkl'\n",
    "models_main = ['sim_lin_main', 'ridge_cv_main', 'lasso_cv_main', 'RF_best_main', 'ab_best_main']\n",
    "\n",
    "# Record model's r2 score and predicted results on validation set\n",
    "weights_main = np.zeros((len(models_main),))\n",
    "preds_main_valid = np.zeros((y_valid.shape[0], len(models_main)))\n",
    "preds_main_test = np.zeros((y_test.shape[0], len(models_main)))\n",
    "for i, name in enumerate(models_main):\n",
    "    model_name = prefix + name + suffix\n",
    "    model = joblib.load(model_name) \n",
    "    weights_main[i] = model.score(X_valid_main, y_valid)\n",
    "    preds_main_valid[:, i] = model.predict(X_valid_main)\n",
    "    preds_main_test[:, i] = model.predict(X_test_main)\n",
    "\n",
    "weights_main = weights_main/np.sum(weights_main)\n",
    "meta_pred_main_valid = np.average(preds_main_valid, axis=1, weights=weights_main)\n",
    "meta_pred_main_test = np.average(preds_main_test, axis=1, weights=weights_main)\n",
    "\n",
    "# Print model performance\n",
    "meta_r2_valid_main = r2_score(y_valid, meta_pred_main_valid)\n",
    "meta_r2_test_main = r2_score(y_test, meta_pred_main_test)\n",
    "print('-- Meta model 1: Weighted Avg with main predictors only --')\n",
    "print(\"Valid R^2: {}\".format(meta_r2_valid_main))\n",
    "print(\"Test R^2: {}\".format(meta_r2_test_main))"
   ]
  },
  {
   "cell_type": "markdown",
   "metadata": {},
   "source": [
    "#### Meta Model: Linear Regression"
   ]
  },
  {
   "cell_type": "code",
   "execution_count": 24,
   "metadata": {},
   "outputs": [
    {
     "name": "stdout",
     "output_type": "stream",
     "text": [
      "-- Meta model 2: Linear Regression with main predictors only --\n",
      "Train R^2: 0.48592344342771787\n",
      "Test R^2: 0.4965343020024535\n"
     ]
    }
   ],
   "source": [
    "# Record model's predicted results on validation set as the train set for the meta regressor\n",
    "meta_X_train_main = np.zeros((y_valid.shape[0], len(models_main)))\n",
    "meta_X_test_main = np.zeros((y_test.shape[0], len(models_main)))\n",
    "for i, name in enumerate(models_main):\n",
    "    model_name = prefix + name + suffix\n",
    "    model = joblib.load(model_name) \n",
    "    meta_X_train_main[:, i] = model.predict(X_valid_main)\n",
    "    meta_X_test_main[:, i] = model.predict(X_test_main)\n",
    "\n",
    "meta_reg_main = LinearRegression().fit(meta_X_train_main, y_valid)\n",
    "joblib.dump(meta_reg_main, '../../fitted_models/meta_reg_main.pkl') # Dump fitted model to disk\n",
    "\n",
    "# Load fitted model to reproduce results\n",
    "meta_reg_main = joblib.load('../../fitted_models/meta_reg_main.pkl') \n",
    "print('-- Meta model 2: Linear Regression with main predictors only --')\n",
    "print(\"Train R^2: {}\".format(meta_reg_main.score(meta_X_train_main, y_valid)))\n",
    "print(\"Test R^2: {}\".format(meta_reg_main.score(meta_X_test_main, y_test)))"
   ]
  },
  {
   "cell_type": "markdown",
   "metadata": {},
   "source": [
    "## Regression models on main predictors & interaction terms"
   ]
  },
  {
   "cell_type": "markdown",
   "metadata": {},
   "source": [
    "### Data Processing"
   ]
  },
  {
   "cell_type": "markdown",
   "metadata": {},
   "source": [
    "Add interaction terms between **genres** and the **numerical audio features' average**"
   ]
  },
  {
   "cell_type": "code",
   "execution_count": 25,
   "metadata": {
    "collapsed": true
   },
   "outputs": [],
   "source": [
    "audio_features_avg = ['track_acousticness_avg', 'track_album_popularity_avg', 'track_danceability_avg',\n",
    "                    'track_duration_ms_avg', 'track_energy_avg', 'track_explicit_avg', \n",
    "                    'track_instrumentalness_avg', 'track_liveness_avg', 'track_loudness_avg', 'track_mode_avg', \n",
    "                    'track_speechiness_avg', 'track_tempo_avg', 'track_valence_avg']\n",
    "genres = ['genre_blues', 'genre_classical', 'genre_country', 'genre_dance',\n",
    "       'genre_edm', 'genre_elect', 'genre_folk', 'genre_funk', 'genre_hip hop',\n",
    "       'genre_house', 'genre_indie', 'genre_indie pop', 'genre_jazz',\n",
    "       'genre_korean pop', 'genre_mellow', 'genre_metal', 'genre_other',\n",
    "       'genre_pop', 'genre_pop christmas', 'genre_pop rap', 'genre_punk',\n",
    "       'genre_r&b', 'genre_rap', 'genre_reggae', 'genre_rock', 'genre_soul',]\n",
    "\n",
    "cross_terms = audio_features_avg + genres"
   ]
  },
  {
   "cell_type": "code",
   "execution_count": 26,
   "metadata": {},
   "outputs": [
    {
     "data": {
      "text/html": [
       "<div>\n",
       "<style>\n",
       "    .dataframe thead tr:only-child th {\n",
       "        text-align: right;\n",
       "    }\n",
       "\n",
       "    .dataframe thead th {\n",
       "        text-align: left;\n",
       "    }\n",
       "\n",
       "    .dataframe tbody tr th {\n",
       "        vertical-align: top;\n",
       "    }\n",
       "</style>\n",
       "<table border=\"1\" class=\"dataframe\">\n",
       "  <thead>\n",
       "    <tr style=\"text-align: right;\">\n",
       "      <th></th>\n",
       "      <th>num_tracks</th>\n",
       "      <th>track_acousticness_avg</th>\n",
       "      <th>track_acousticness_std</th>\n",
       "      <th>track_album_popularity_avg</th>\n",
       "      <th>track_album_popularity_max</th>\n",
       "      <th>track_album_popularity_std</th>\n",
       "      <th>track_artists_genres_unique</th>\n",
       "      <th>track_avg_artist_num_followers_avg</th>\n",
       "      <th>track_avg_artist_num_followers_std</th>\n",
       "      <th>track_avg_artist_popularity_avg</th>\n",
       "      <th>...</th>\n",
       "      <th>track_valence_avg_X_genre_pop</th>\n",
       "      <th>track_valence_avg_X_genre_pop christmas</th>\n",
       "      <th>track_valence_avg_X_genre_pop rap</th>\n",
       "      <th>track_valence_avg_X_genre_punk</th>\n",
       "      <th>track_valence_avg_X_genre_r&amp;b</th>\n",
       "      <th>track_valence_avg_X_genre_rap</th>\n",
       "      <th>track_valence_avg_X_genre_reggae</th>\n",
       "      <th>track_valence_avg_X_genre_rock</th>\n",
       "      <th>track_valence_avg_X_genre_soul</th>\n",
       "      <th>log_num_followers</th>\n",
       "    </tr>\n",
       "  </thead>\n",
       "  <tbody>\n",
       "    <tr>\n",
       "      <th>0</th>\n",
       "      <td>52</td>\n",
       "      <td>0.180999</td>\n",
       "      <td>0.171120</td>\n",
       "      <td>71.673077</td>\n",
       "      <td>96</td>\n",
       "      <td>13.136445</td>\n",
       "      <td>60</td>\n",
       "      <td>1.276693e+06</td>\n",
       "      <td>1.320843e+06</td>\n",
       "      <td>82.256410</td>\n",
       "      <td>...</td>\n",
       "      <td>0.456071</td>\n",
       "      <td>0.0</td>\n",
       "      <td>0.0</td>\n",
       "      <td>0.0</td>\n",
       "      <td>0.0</td>\n",
       "      <td>0.0</td>\n",
       "      <td>0.0</td>\n",
       "      <td>0.0</td>\n",
       "      <td>0.0</td>\n",
       "      <td>14.914325</td>\n",
       "    </tr>\n",
       "    <tr>\n",
       "      <th>1</th>\n",
       "      <td>75</td>\n",
       "      <td>0.144201</td>\n",
       "      <td>0.160799</td>\n",
       "      <td>68.440000</td>\n",
       "      <td>100</td>\n",
       "      <td>15.511063</td>\n",
       "      <td>70</td>\n",
       "      <td>3.791621e+06</td>\n",
       "      <td>3.658858e+06</td>\n",
       "      <td>84.684000</td>\n",
       "      <td>...</td>\n",
       "      <td>0.555027</td>\n",
       "      <td>0.0</td>\n",
       "      <td>0.0</td>\n",
       "      <td>0.0</td>\n",
       "      <td>0.0</td>\n",
       "      <td>0.0</td>\n",
       "      <td>0.0</td>\n",
       "      <td>0.0</td>\n",
       "      <td>0.0</td>\n",
       "      <td>11.142412</td>\n",
       "    </tr>\n",
       "    <tr>\n",
       "      <th>2</th>\n",
       "      <td>38</td>\n",
       "      <td>0.116600</td>\n",
       "      <td>0.117615</td>\n",
       "      <td>72.421053</td>\n",
       "      <td>94</td>\n",
       "      <td>16.192317</td>\n",
       "      <td>44</td>\n",
       "      <td>2.319518e+06</td>\n",
       "      <td>2.237652e+06</td>\n",
       "      <td>86.705263</td>\n",
       "      <td>...</td>\n",
       "      <td>0.526526</td>\n",
       "      <td>0.0</td>\n",
       "      <td>0.0</td>\n",
       "      <td>0.0</td>\n",
       "      <td>0.0</td>\n",
       "      <td>0.0</td>\n",
       "      <td>0.0</td>\n",
       "      <td>0.0</td>\n",
       "      <td>0.0</td>\n",
       "      <td>12.863271</td>\n",
       "    </tr>\n",
       "    <tr>\n",
       "      <th>3</th>\n",
       "      <td>40</td>\n",
       "      <td>0.134162</td>\n",
       "      <td>0.247197</td>\n",
       "      <td>57.025000</td>\n",
       "      <td>82</td>\n",
       "      <td>18.083815</td>\n",
       "      <td>97</td>\n",
       "      <td>2.387520e+06</td>\n",
       "      <td>3.589807e+06</td>\n",
       "      <td>72.987500</td>\n",
       "      <td>...</td>\n",
       "      <td>0.501825</td>\n",
       "      <td>0.0</td>\n",
       "      <td>0.0</td>\n",
       "      <td>0.0</td>\n",
       "      <td>0.0</td>\n",
       "      <td>0.0</td>\n",
       "      <td>0.0</td>\n",
       "      <td>0.0</td>\n",
       "      <td>0.0</td>\n",
       "      <td>11.146849</td>\n",
       "    </tr>\n",
       "    <tr>\n",
       "      <th>4</th>\n",
       "      <td>26</td>\n",
       "      <td>0.171635</td>\n",
       "      <td>0.229736</td>\n",
       "      <td>53.461538</td>\n",
       "      <td>54</td>\n",
       "      <td>0.498519</td>\n",
       "      <td>5</td>\n",
       "      <td>8.566853e+04</td>\n",
       "      <td>2.347853e+05</td>\n",
       "      <td>55.059341</td>\n",
       "      <td>...</td>\n",
       "      <td>0.658846</td>\n",
       "      <td>0.0</td>\n",
       "      <td>0.0</td>\n",
       "      <td>0.0</td>\n",
       "      <td>0.0</td>\n",
       "      <td>0.0</td>\n",
       "      <td>0.0</td>\n",
       "      <td>0.0</td>\n",
       "      <td>0.0</td>\n",
       "      <td>9.655859</td>\n",
       "    </tr>\n",
       "  </tbody>\n",
       "</table>\n",
       "<p>5 rows × 424 columns</p>\n",
       "</div>"
      ],
      "text/plain": [
       "   num_tracks  track_acousticness_avg  track_acousticness_std  \\\n",
       "0          52                0.180999                0.171120   \n",
       "1          75                0.144201                0.160799   \n",
       "2          38                0.116600                0.117615   \n",
       "3          40                0.134162                0.247197   \n",
       "4          26                0.171635                0.229736   \n",
       "\n",
       "   track_album_popularity_avg  track_album_popularity_max  \\\n",
       "0                   71.673077                          96   \n",
       "1                   68.440000                         100   \n",
       "2                   72.421053                          94   \n",
       "3                   57.025000                          82   \n",
       "4                   53.461538                          54   \n",
       "\n",
       "   track_album_popularity_std  track_artists_genres_unique  \\\n",
       "0                   13.136445                           60   \n",
       "1                   15.511063                           70   \n",
       "2                   16.192317                           44   \n",
       "3                   18.083815                           97   \n",
       "4                    0.498519                            5   \n",
       "\n",
       "   track_avg_artist_num_followers_avg  track_avg_artist_num_followers_std  \\\n",
       "0                        1.276693e+06                        1.320843e+06   \n",
       "1                        3.791621e+06                        3.658858e+06   \n",
       "2                        2.319518e+06                        2.237652e+06   \n",
       "3                        2.387520e+06                        3.589807e+06   \n",
       "4                        8.566853e+04                        2.347853e+05   \n",
       "\n",
       "   track_avg_artist_popularity_avg        ...          \\\n",
       "0                        82.256410        ...           \n",
       "1                        84.684000        ...           \n",
       "2                        86.705263        ...           \n",
       "3                        72.987500        ...           \n",
       "4                        55.059341        ...           \n",
       "\n",
       "   track_valence_avg_X_genre_pop  track_valence_avg_X_genre_pop christmas  \\\n",
       "0                       0.456071                                      0.0   \n",
       "1                       0.555027                                      0.0   \n",
       "2                       0.526526                                      0.0   \n",
       "3                       0.501825                                      0.0   \n",
       "4                       0.658846                                      0.0   \n",
       "\n",
       "   track_valence_avg_X_genre_pop rap  track_valence_avg_X_genre_punk  \\\n",
       "0                                0.0                             0.0   \n",
       "1                                0.0                             0.0   \n",
       "2                                0.0                             0.0   \n",
       "3                                0.0                             0.0   \n",
       "4                                0.0                             0.0   \n",
       "\n",
       "   track_valence_avg_X_genre_r&b  track_valence_avg_X_genre_rap  \\\n",
       "0                            0.0                            0.0   \n",
       "1                            0.0                            0.0   \n",
       "2                            0.0                            0.0   \n",
       "3                            0.0                            0.0   \n",
       "4                            0.0                            0.0   \n",
       "\n",
       "   track_valence_avg_X_genre_reggae  track_valence_avg_X_genre_rock  \\\n",
       "0                               0.0                             0.0   \n",
       "1                               0.0                             0.0   \n",
       "2                               0.0                             0.0   \n",
       "3                               0.0                             0.0   \n",
       "4                               0.0                             0.0   \n",
       "\n",
       "   track_valence_avg_X_genre_soul  log_num_followers  \n",
       "0                             0.0          14.914325  \n",
       "1                             0.0          11.142412  \n",
       "2                             0.0          12.863271  \n",
       "3                             0.0          11.146849  \n",
       "4                             0.0           9.655859  \n",
       "\n",
       "[5 rows x 424 columns]"
      ]
     },
     "execution_count": 26,
     "metadata": {},
     "output_type": "execute_result"
    }
   ],
   "source": [
    "# Make a copy of the original playlists dataframe\n",
    "playlists_df_interaction = deepcopy(playlists_df_full)\n",
    "\n",
    "# Generate 2-way interaction terms\n",
    "for feature in audio_features_avg:\n",
    "    for genre in genres:\n",
    "        playlists_df_interaction[feature+'_X_'+genre] = playlists_df_full[feature] * playlists_df_full[genre]\n",
    "\n",
    "playlists_df_interaction = change_column_order(playlists_df_interaction, 'log_num_followers', len(playlists_df_interaction.columns))\n",
    "playlists_df_interaction.head()"
   ]
  },
  {
   "cell_type": "markdown",
   "metadata": {},
   "source": [
    "Split data **6:1:1**\n",
    "1. **train set** for single models: 6/8 of all data\n",
    "2. **validation set** for single models & **train set for meta models**: 1/8 of all data\n",
    "3. **test set**: 1/8 of all data"
   ]
  },
  {
   "cell_type": "code",
   "execution_count": 27,
   "metadata": {
    "collapsed": true
   },
   "outputs": [],
   "source": [
    "# Split data into train & test set\n",
    "np.random.seed(9001)\n",
    "msk2 = np.random.rand(len(playlists_df_interaction)) < 0.75\n",
    "playlists_df_train_int = playlists_df_interaction[msk2]\n",
    "playlists_df_nontrain_int = playlists_df_interaction[~msk2]\n",
    "\n",
    "msk22 = np.random.rand(len(playlists_df_nontrain_int)) < 0.5\n",
    "playlists_df_valid_int = playlists_df_nontrain_int[msk22]\n",
    "playlists_df_test_int = playlists_df_nontrain_int[~msk22]"
   ]
  },
  {
   "cell_type": "code",
   "execution_count": 28,
   "metadata": {},
   "outputs": [
    {
     "data": {
      "text/plain": [
       "((7083, 423), (7083,), (1214, 423), (1214,), (1133, 423), (1133,))"
      ]
     },
     "execution_count": 28,
     "metadata": {},
     "output_type": "execute_result"
    }
   ],
   "source": [
    "# Build predictors & response\n",
    "X_train_int = playlists_df_train_int.iloc[:,:-1]\n",
    "X_valid_int = playlists_df_valid_int.iloc[:,:-1]\n",
    "X_test_int = playlists_df_test_int.iloc[:,:-1]\n",
    "\n",
    "X_train_int.shape, y_train.shape, X_valid_int.shape, y_valid.shape, X_test_int.shape, y_test.shape"
   ]
  },
  {
   "cell_type": "markdown",
   "metadata": {},
   "source": [
    "Drop columns that have only 0 and **standardize** numerical variables using **train set's mean and std**"
   ]
  },
  {
   "cell_type": "code",
   "execution_count": 29,
   "metadata": {
    "collapsed": true
   },
   "outputs": [],
   "source": [
    "for col in X_train_int.columns:\n",
    "    if (X_train_int[col] == 0).all():\n",
    "        X_train_int.drop(col, axis=1, inplace=True)\n",
    "    else:\n",
    "        # Standardize a numerical variable\n",
    "        if not np.logical_or((X_train_int[col]==0), ((X_train_int[col]==1))).all():\n",
    "            mean_train = X_train_int[col].mean()\n",
    "            std_train = X_train_int[col].std()\n",
    "            X_train_int[col] = (X_train_int[col] - mean_train) / std_train\n",
    "            X_valid_int[col] = (X_valid_int[col] - mean_train) / std_train\n",
    "            X_test_int[col] = (X_test_int[col] - mean_train) / std_train\n"
   ]
  },
  {
   "cell_type": "markdown",
   "metadata": {},
   "source": [
    "### Regression Models"
   ]
  },
  {
   "cell_type": "markdown",
   "metadata": {},
   "source": [
    "#### Linear regression"
   ]
  },
  {
   "cell_type": "code",
   "execution_count": 30,
   "metadata": {
    "collapsed": true
   },
   "outputs": [],
   "source": [
    "# Fit & Save Model\n",
    "sim_lin_int = LinearRegression().fit(X_train_int, y_train)\n",
    "joblib.dump(sim_lin_int, '../../fitted_models/sim_lin_int.pkl') "
   ]
  },
  {
   "cell_type": "code",
   "execution_count": 31,
   "metadata": {},
   "outputs": [
    {
     "name": "stdout",
     "output_type": "stream",
     "text": [
      "-- Regression with all predictors and interaction terms --\n",
      "Training R^2:  0.324099629417\n",
      "Test R^2:  0.246580040621\n"
     ]
    }
   ],
   "source": [
    "# Load fitted model to reproduce results\n",
    "sim_lin_int = joblib.load('../../fitted_models/sim_lin_int.pkl') \n",
    "print('-- Regression with all predictors and interaction terms --')\n",
    "print('Training R^2: ', sim_lin_int.score(X_train_int, y_train))\n",
    "print('Test R^2: ', sim_lin_int.score(X_test_int, y_test))"
   ]
  },
  {
   "cell_type": "markdown",
   "metadata": {},
   "source": [
    "#### PCA on main predictors & their interaction terms\n",
    "Use 5-Fold cross-validation to find the best n_components of PCA"
   ]
  },
  {
   "cell_type": "code",
   "execution_count": 32,
   "metadata": {},
   "outputs": [
    {
     "name": "stdout",
     "output_type": "stream",
     "text": [
      "The best n_components for PCA is 188\n"
     ]
    }
   ],
   "source": [
    "n_pca = 200\n",
    "r2_valid_cv = np.zeros((n_pca, 5))\n",
    "\n",
    "fold_ctr = 0\n",
    "for itrain, ivalid in KFold(n_splits=5, shuffle=True, random_state=9001).split(X_train_int.index):\n",
    "    # in general though its good for creating consistent psets, don't put seeds into kfold split\n",
    "    X_train_cv = X_train_int.iloc[itrain,:]\n",
    "    y_train_cv = y_train.iloc[itrain]\n",
    "    X_valid_cv = X_train_int.iloc[ivalid,:]\n",
    "    y_valid_cv = y_train.iloc[ivalid]\n",
    "    \n",
    "    # pca\n",
    "    pca = PCA()\n",
    "    pca.fit(X_train_cv)\n",
    "    X_train_pca_cv = pca.transform(X_train_cv)\n",
    "    X_valid_pca_cv = pca.transform(X_valid_cv)\n",
    "    \n",
    "    for comp in range(1, n_pca+1):\n",
    "        linear_cv = LinearRegression().fit(X_train_pca_cv[:,:comp], y_train_cv) # fit model\n",
    "        r2_valid_cv[comp-1,fold_ctr] = linear_cv.score(X_valid_pca_cv[:,:comp], y_valid_cv) # get valid r2 score\n",
    "        \n",
    "    fold_ctr += 1\n",
    "\n",
    "\n",
    "scores_valid = np.mean(r2_valid_cv, axis=1)[1:]\n",
    "best_n = np.argmax(scores_valid)\n",
    "print('The best n_components for PCA is {}'.format(best_n))"
   ]
  },
  {
   "cell_type": "code",
   "execution_count": 33,
   "metadata": {},
   "outputs": [
    {
     "name": "stdout",
     "output_type": "stream",
     "text": [
      "-- Linear Regression on main predictors & interaction terms ' best PCA(n_components=188) --\n",
      "Training R^2: 0.2637031949094367\n",
      "Test R^2: 0.20381245149309746\n"
     ]
    }
   ],
   "source": [
    "pca = PCA()\n",
    "pca.fit(X_train_int)\n",
    "\n",
    "X_train_int_pca_best = pca.transform(X_train_int)[:,:best_n]\n",
    "X_test_int_pca_best = pca.transform(X_test_int)[:,:best_n]\n",
    "\n",
    "linear_pca_best = LinearRegression().fit(X_train_int_pca_best, y_train)\n",
    "score_train_pca_best = linear_pca_best.score(X_train_int_pca_best, y_train)\n",
    "score_test_pca_best = linear_pca_best.score(X_test_int_pca_best, y_test)\n",
    "\n",
    "print('-- Linear Regression on main predictors & interaction terms \\' best PCA(n_components={}) --'.format(best_n))\n",
    "print(\"Training R^2: {}\".format(score_train_pca_best))\n",
    "print(\"Test R^2: {}\".format(score_test_pca_best))"
   ]
  },
  {
   "cell_type": "markdown",
   "metadata": {},
   "source": [
    "#### RidgeCV"
   ]
  },
  {
   "cell_type": "code",
   "execution_count": 34,
   "metadata": {
    "collapsed": true
   },
   "outputs": [],
   "source": [
    "lambdas = [1e-5, 1e-4, 1e-3, 1e-2, 1e-1, 1e0, 1e1, 1e2, 1e3, 1e4, 1e5]\n",
    "ridge_cv_int = RidgeCV(alphas=lambdas, fit_intercept=True).fit(X_train_int, y_train)\n",
    "joblib.dump(ridge_cv_int, '../../fitted_models/ridge_cv_int.pkl') "
   ]
  },
  {
   "cell_type": "code",
   "execution_count": 35,
   "metadata": {},
   "outputs": [
    {
     "name": "stdout",
     "output_type": "stream",
     "text": [
      "-- RidgeCV (best alpha = 100.0) with main predictors & interaction terms --\n",
      "Training R^2: 0.2996521645411735\n",
      "Test R^2: 0.25243054110669527\n"
     ]
    }
   ],
   "source": [
    "# Load fitted model\n",
    "ridge_cv_int = joblib.load('../../fitted_models/ridge_cv_int.pkl') \n",
    "ridge_r2_train_int = ridge_cv_int.score(X_train_int, y_train)\n",
    "ridge_r2_test_int = ridge_cv_int.score(X_test_int, y_test)\n",
    "\n",
    "print('-- RidgeCV (best alpha = {}) with main predictors & interaction terms --'.format(ridge_cv_int.alpha_))\n",
    "print(\"Training R^2: {}\".format(ridge_r2_train_int))\n",
    "print(\"Test R^2: {}\".format(ridge_r2_test_int))"
   ]
  },
  {
   "cell_type": "markdown",
   "metadata": {},
   "source": [
    "#### LassoCV"
   ]
  },
  {
   "cell_type": "code",
   "execution_count": 36,
   "metadata": {
    "collapsed": true
   },
   "outputs": [],
   "source": [
    "lambdas = [1e-5, 1e-4, 1e-3, 1e-2, 1e-1, 1e0, 1e1, 1e2, 1e3, 1e4, 1e5]\n",
    "lasso_cv_int = LassoCV(alphas=lambdas, fit_intercept=True).fit(X_train_int, y_train)\n",
    "joblib.dump(lasso_cv_int, '../../fitted_models/lasso_cv_int.pkl') "
   ]
  },
  {
   "cell_type": "code",
   "execution_count": 37,
   "metadata": {},
   "outputs": [
    {
     "name": "stdout",
     "output_type": "stream",
     "text": [
      "-- LassoCV w/ (best alpha = 0.01) with main predictors & interaction terms --\n",
      "Training R^2: 0.2875042397561971\n",
      "Test R^2: 0.2689411261878084\n"
     ]
    }
   ],
   "source": [
    "# Load fitted model\n",
    "lasso_cv_int = joblib.load('../../fitted_models/lasso_cv_int.pkl') \n",
    "lasso_r2_train_int = lasso_cv_int.score(X_train_int, y_train)\n",
    "lasso_r2_test_int = lasso_cv_int.score(X_test_int, y_test)\n",
    "\n",
    "print('-- LassoCV w/ (best alpha = {}) with main predictors & interaction terms --'.format(lasso_cv_int.alpha_))\n",
    "print(\"Training R^2: {}\".format(lasso_r2_train_int))\n",
    "print(\"Test R^2: {}\".format(lasso_r2_test_int))"
   ]
  },
  {
   "cell_type": "markdown",
   "metadata": {},
   "source": [
    "#### Random Forest"
   ]
  },
  {
   "cell_type": "code",
   "execution_count": 38,
   "metadata": {
    "collapsed": true
   },
   "outputs": [],
   "source": [
    "# Use r2 on validation set to find the optimal n_estimators and max_features\n",
    "cv_scores_RF_int = []\n",
    "params_dict_RF_int = {}\n",
    "\n",
    "for i, (n, f) in enumerate(product(*RF_params.values())):\n",
    "    params_dict_RF_int[i] = (n, f)\n",
    "    \n",
    "    # Cross Validation on Random Forest Classifier\n",
    "    RF_int = RandomForestRegressor(oob_score=False, n_estimators=n, max_features=f, n_jobs=-1, random_state=22)\n",
    "    scores = cross_val_score(RF_int, X_train_main, y_train, cv=5, scoring='r2')\n",
    "    cv_scores_RF_int.append(scores.mean())\n",
    "\n",
    "# Get the optimal set of parameters of the Random Forest Regressor\n",
    "idx_optimal = np.argmax(cv_scores_RF_int)\n",
    "optimal_params_RF_int = params_dict_RF_int[idx_optimal]\n",
    "print('-- Random Forest Regression with main predictors & interaction terms --')\n",
    "print('Maximum R^2 validation score = {}'.format(max(cv_scores_RF_int)))\n",
    "print('Optimal n_estimators = {}'.format(optimal_params_RF_int[0]))\n",
    "print('Optimal max_features = {}'.format(optimal_params_RF_int[1]))\n",
    "\n",
    "# Fit the best RF\n",
    "RF_best_int = RandomForestRegressor(oob_score=False, n_estimators=optimal_params_RF_int[0], \n",
    "                                     max_features=optimal_params_RF_int[1], n_jobs=-1, \n",
    "                                     random_state=22).fit(X_train_int, y_train)\n",
    "RF_best_r2_train_int = RF_best_int.score(X_train_int, y_train)\n",
    "RF_best_r2_test_int = RF_best_int.score(X_test_int, y_test)\n",
    "print('-- Best Random Forest Regression w/ interaction terms --')\n",
    "print(\"Training R^2: {}\".format(RF_best_r2_train_int))\n",
    "print(\"Test R^2: {}\".format(RF_best_r2_test_int))\n",
    "\n",
    "# Dump fitted model to disk\n",
    "joblib.dump(RF_best_int, '../../fitted_models/RF_best_int.pkl') "
   ]
  },
  {
   "cell_type": "markdown",
   "metadata": {},
   "source": [
    "Load fitted model to reproduce results directly"
   ]
  },
  {
   "cell_type": "code",
   "execution_count": 39,
   "metadata": {},
   "outputs": [
    {
     "name": "stdout",
     "output_type": "stream",
     "text": [
      "-- Best Random Forest Regression with main predictors & interaction terms --\n",
      "Training R^2: 0.9257887738410054\n",
      "Test R^2: 0.47591913127397234\n"
     ]
    }
   ],
   "source": [
    "# Load fitted model to reproduce results\n",
    "RF_best_int = joblib.load('../../fitted_models/RF_best_int.pkl') \n",
    "RF_best_r2_train_int = RF_best_int.score(X_train_int, y_train)\n",
    "RF_best_r2_test_int = RF_best_int.score(X_test_int, y_test)\n",
    "print('-- Best Random Forest Regression with main predictors & interaction terms --')\n",
    "print(\"Training R^2: {}\".format(RF_best_r2_train_int))\n",
    "print(\"Test R^2: {}\".format(RF_best_r2_test_int))"
   ]
  },
  {
   "cell_type": "markdown",
   "metadata": {},
   "source": [
    "#### Adaboost"
   ]
  },
  {
   "cell_type": "code",
   "execution_count": 40,
   "metadata": {
    "collapsed": true
   },
   "outputs": [],
   "source": [
    "# Use 5-fold CV to choose max_depth & n_estimators in AdaBoost Regressor\n",
    "l_rate = 0.05\n",
    "params_dict_ab_int = {}\n",
    "cv_scores_ab_int = []\n",
    "for i, (d, n) in enumerate(product(*ab_params.values())):\n",
    "    params_dict_ab_int[i] = (d, n)\n",
    "    ab_main = AdaBoostRegressor(DecisionTreeRegressor(max_depth=d, random_state=22), n_estimators=n, \n",
    "                                learning_rate=l_rate, random_state=22)\n",
    "    scores = cross_val_score(ab_main, X_train_int, y_train, cv=5, scoring='r2')\n",
    "    cv_scores_ab_int.append(scores.mean())\n",
    "\n",
    "# Get the optimal set of parameters of the AdaBoost Regressor\n",
    "idx_optimal = np.argmax(cv_scores_ab_int)\n",
    "optimal_params_ab_int = params_dict_ab_int[idx_optimal]\n",
    "print('-- AdaBoost Regression with main predictors & interaction terms --')\n",
    "print('Maximum R^2 validation score = {}'.format(max(cv_scores_ab_int)))\n",
    "print('Optimal base tree max_depth = {}'.format(optimal_params_ab_int[0]))\n",
    "print('Optimal n_estimators = {}'.format(optimal_params_ab_int[1]))\n",
    "\n",
    "# Fit the best Adaboost regressor\n",
    "ab_best_int = AdaBoostRegressor(DecisionTreeRegressor(max_depth=optimal_params_ab_int[0], random_state=22), \n",
    "                                 n_estimators=optimal_params_ab_int[1], learning_rate=l_rate, \n",
    "                                 random_state=22).fit(X_train_int, y_train)\n",
    "\n",
    "ab_best_r2_train_int = ab_best_int.score(X_train_int, y_train)\n",
    "ab_best_r2_test_int = ab_best_int.score(X_test_int, y_test)\n",
    "print('-- Best AdaBoost Regression with main predictors & interaction terms --')\n",
    "print(\"Training R^2: {}\".format(ab_best_r2_train_int))\n",
    "print(\"Test R^2: {}\".format(ab_best_r2_test_int))\n",
    "\n",
    "# Dump fitted model to disk\n",
    "joblib.dump(ab_best_int, '../../fitted_models/ab_best_int.pkl') "
   ]
  },
  {
   "cell_type": "markdown",
   "metadata": {},
   "source": [
    "Load fitted model to reproduce results directly"
   ]
  },
  {
   "cell_type": "code",
   "execution_count": 41,
   "metadata": {},
   "outputs": [
    {
     "name": "stdout",
     "output_type": "stream",
     "text": [
      "-- Best AdaBoost Regression with main predictors & interaction terms --\n",
      "Training R^2: 0.6450367936426891\n",
      "Test R^2: 0.4128596865435953\n"
     ]
    }
   ],
   "source": [
    "# Load fitted model to reproduce results\n",
    "ab_best_int = joblib.load('../../fitted_models/ab_best_int.pkl') \n",
    "ab_best_r2_train_int = ab_best_int.score(X_train_int, y_train)\n",
    "ab_best_r2_test_int = ab_best_int.score(X_test_int, y_test)\n",
    "print('-- Best AdaBoost Regression with main predictors & interaction terms --')\n",
    "print(\"Training R^2: {}\".format(ab_best_r2_train_int))\n",
    "print(\"Test R^2: {}\".format(ab_best_r2_test_int))"
   ]
  },
  {
   "cell_type": "markdown",
   "metadata": {},
   "source": [
    "#### Meta Model: Weighted Avg"
   ]
  },
  {
   "cell_type": "code",
   "execution_count": 42,
   "metadata": {},
   "outputs": [
    {
     "name": "stdout",
     "output_type": "stream",
     "text": [
      "-- Meta model 1: Weighted Avg with main predictors & interaction terms --\n",
      "Valid (Meta Train) R^2: 0.40621785748120054\n",
      "Test R^2: 0.4157773596959048\n"
     ]
    }
   ],
   "source": [
    "prefix = '../../fitted_models/'\n",
    "suffix = '.pkl'\n",
    "models_int = ['sim_lin_int', 'ridge_cv_int', 'lasso_cv_int', 'RF_best_int', 'ab_best_int']\n",
    "\n",
    "# Record model's r2 score and predicted results on validation set\n",
    "weights_int = np.zeros((len(models_int),))\n",
    "preds_int_valid = np.zeros((y_valid.shape[0], len(models_int)))\n",
    "preds_int_test = np.zeros((y_test.shape[0], len(models_int)))\n",
    "for i, name in enumerate(models_int):\n",
    "    model_name = prefix + name + suffix\n",
    "    model = joblib.load(model_name) \n",
    "    weights_int[i] = model.score(X_valid_int, y_valid)\n",
    "    preds_int_valid[:, i] = model.predict(X_valid_int)\n",
    "    preds_int_test[:, i] = model.predict(X_test_int)\n",
    "\n",
    "weights_int = weights_int/np.sum(weights_int)\n",
    "meta_pred_int_valid = np.average(preds_int_valid, axis=1, weights=weights_int)\n",
    "meta_pred_int_test = np.average(preds_int_test, axis=1, weights=weights_int)\n",
    "\n",
    "meta_r2_valid_int = r2_score(y_valid, meta_pred_int_valid)\n",
    "meta_r2_test_int = r2_score(y_test, meta_pred_int_test)\n",
    "print('-- Meta model 1: Weighted Avg with main predictors & interaction terms --')\n",
    "print(\"Valid (Meta Train) R^2: {}\".format(meta_r2_valid_int))\n",
    "print(\"Test R^2: {}\".format(meta_r2_test_int))"
   ]
  },
  {
   "cell_type": "markdown",
   "metadata": {},
   "source": [
    "#### Meta Model: Linear Regression"
   ]
  },
  {
   "cell_type": "code",
   "execution_count": 43,
   "metadata": {},
   "outputs": [
    {
     "name": "stdout",
     "output_type": "stream",
     "text": [
      "-- Meta model 2: Linear Regression with main predictors & interaction terms --\n",
      "Train R^2: 0.4849953986455844\n",
      "Test R^2: 0.49444420329210315\n"
     ]
    }
   ],
   "source": [
    "# Record model's predicted results on validation set as the train set for the meta regressor\n",
    "meta_X_train_int = np.zeros((y_valid.shape[0], len(models_int)))\n",
    "meta_X_test_int = np.zeros((y_test.shape[0], len(models_int)))\n",
    "for i, name in enumerate(models_int):\n",
    "    model_name = prefix + name + suffix\n",
    "    model = joblib.load(model_name) \n",
    "    meta_X_train_int[:, i] = model.predict(X_valid_int)\n",
    "    meta_X_test_int[:, i] = model.predict(X_test_int)\n",
    "\n",
    "meta_reg_int = LinearRegression().fit(meta_X_train_int, y_valid)\n",
    "joblib.dump(meta_reg_int, '../../fitted_models/meta_reg_int.pkl') # Dump fitted model to disk\n",
    "\n",
    "# Load fitted model to reproduce results\n",
    "meta_reg_int = joblib.load('../../fitted_models/meta_reg_int.pkl') \n",
    "print('-- Meta model 2: Linear Regression with main predictors & interaction terms --')\n",
    "print(\"Train R^2: {}\".format(meta_reg_int.score(meta_X_train_int, y_valid)))\n",
    "print(\"Test R^2: {}\".format(meta_reg_int.score(meta_X_test_int, y_test)))"
   ]
  },
  {
   "cell_type": "markdown",
   "metadata": {
    "collapsed": true
   },
   "source": [
    "## Summary\n",
    "$R^2$ score on the **test set** of all playlists:\n",
    "\n",
    "|          Model          | Main Only | Main & Interaction |\n",
    "|-------------------------|-----------|--------------------|\n",
    "| Linear Regression       | 0.25215   | 0.24658            |\n",
    "| PCA                     | N/A       | (n=188) 0.20381    |\n",
    "| RidgeCV                 | 0.25052   | 0.25243            |\n",
    "| LassoCV                 | 0.24915   | 0.26894            |\n",
    "| Random Forest           | 0.48157   | 0.47592            |\n",
    "| Adaboost                | 0.41946   | 0.41286            |\n",
    "| Meta - Weighted Avg     | 0.41066   | 0.41578            |\n",
    "| Meta - Linear Regression| 0.49653   | 0.49444            |\n"
   ]
  },
  {
   "cell_type": "code",
   "execution_count": 44,
   "metadata": {},
   "outputs": [
    {
     "data": {
      "image/png": "[encoded data removed]",
      "text/plain": [
       "<matplotlib.figure.Figure at 0x11c2b3550>"
      ]
     },
     "metadata": {},
     "output_type": "display_data"
    }
   ],
   "source": [
    "# Visualize the Test R^2 scores of all models\n",
    "model_names = ['Lin.Reg.', 'RidgeCV', 'LassoCV', 'RF', 'Adaboost', 'Meta 1\\nWeighted.Avg.', 'Meta 2\\nLin.Reg.']\n",
    "acc_test_main = [0.25215, 0.25052, 0.24915, 0.48157, 0.41946, 0.41066, 0.49653]\n",
    "acc_test_int = [0.24658, 0.25243, 0.26894, 0.47592, 0.41286, 0.41578, 0.49444]\n",
    "\n",
    "width = 0.3\n",
    "plt.figure(figsize=(12, 8))\n",
    "plt.bar(np.arange(len(model_names)), acc_test_main, width, alpha=0.8, label='Main')\n",
    "plt.bar(np.arange(len(model_names))+width, acc_test_int, width, alpha=0.8, label='Main & Interaction')\n",
    "plt.xticks(np.arange(len(model_names))+0.5*width, model_names, fontsize=14)\n",
    "plt.title('Test $R^2$ VS. Models ', fontsize=20)\n",
    "plt.ylabel('Test $R^2$', fontsize=16)\n",
    "plt.legend(fontsize=14)\n",
    "plt.show()"
   ]
  }
 ],
 "metadata": {
  "celltoolbar": "Edit Metadata",
  "kernelspec": {
   "display_name": "Python 3",
   "language": "python",
   "name": "python3"
  },
  "language_info": {
   "codemirror_mode": {
    "name": "ipython",
    "version": 3
   },
   "file_extension": ".py",
   "mimetype": "text/x-python",
   "name": "python",
   "nbconvert_exporter": "python",
   "pygments_lexer": "ipython3",
   "version": "3.6.1"
  }
 },
 "nbformat": 4,
 "nbformat_minor": 2
}
